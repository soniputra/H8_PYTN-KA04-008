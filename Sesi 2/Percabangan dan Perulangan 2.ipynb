{
 "cells": [
  {
   "cell_type": "markdown",
   "id": "7167ddbd",
   "metadata": {},
   "source": [
    "<p>\n",
    "\n",
    "     if age < 18:\n",
    "         if gender == \"M\":\n",
    "             print(\"Son\")\n",
    "         else:\n",
    "             print(\"daughter\")\n",
    "     elif age >= 18 and age < 65:\n",
    "         if gender == \"M\":\n",
    "             print(\"Father\")\n",
    "         else:\n",
    "             print(\"Mother\")\n",
    "     else:\n",
    "         if gender == \"M\":\n",
    "             print(\"Grandfather\")\n",
    "         else:\n",
    "             print(\"GrandMother\")\n",
    "\n",
    "</P>"
   ]
  },
  {
   "cell_type": "code",
   "execution_count": 6,
   "id": "205ae155",
   "metadata": {},
   "outputs": [
    {
     "name": "stdout",
     "output_type": "stream",
     "text": [
      "foo\n",
      "> baz\n",
      "> qux\n",
      "bar\n",
      "> baz\n",
      "> qux\n"
     ]
    }
   ],
   "source": [
    "a = [\"foo\", \"bar\"]\n",
    "\n",
    "while len(a):\n",
    "    print(a.pop(0))\n",
    "    \n",
    "    b = [\"baz\", \"qux\"]\n",
    "    \n",
    "    while len(b):\n",
    "        print(\">\", b.pop(0))"
   ]
  },
  {
   "cell_type": "markdown",
   "id": "49be6629",
   "metadata": {},
   "source": [
    "<p>\n",
    "\n",
    "while <expr1>:\n",
    "    statement\n",
    "    statement\n",
    "    \n",
    "    while <expr2>:\n",
    "        statement\n",
    "        statement\n",
    "        break # Applies to while <expr2>: loop\n",
    "        \n",
    "    break # Applies to while <expr1>: loop\n",
    "</p>"
   ]
  },
  {
   "cell_type": "markdown",
   "id": "0304f68c",
   "metadata": {},
   "source": [
    "<p>\n",
    "    \n",
    "    if <expr>:\n",
    "        statement\n",
    "        while <expr>:\n",
    "            statement        \n",
    "            statement\n",
    "    else:\n",
    "        while <expr>:\n",
    "            statement\n",
    "            statement\n",
    "        statement\n",
    "    while <expr>:\n",
    "        if <expr>:\n",
    "            statement\n",
    "        elif <expr>:\n",
    "            statement\n",
    "        else:\n",
    "            statement\n",
    "        if <expr>:\n",
    "            statement\n",
    "</p>"
   ]
  },
  {
   "cell_type": "markdown",
   "id": "5b942df0",
   "metadata": {},
   "source": [
    "#### One Line While Loops"
   ]
  },
  {
   "cell_type": "code",
   "execution_count": 8,
   "id": "418a146d",
   "metadata": {},
   "outputs": [
    {
     "name": "stdout",
     "output_type": "stream",
     "text": [
      "4\n",
      "3\n",
      "2\n",
      "1\n",
      "0\n"
     ]
    }
   ],
   "source": [
    "n = 5\n",
    "while n > 0: n -= 1; print(n)"
   ]
  },
  {
   "cell_type": "markdown",
   "id": "11b46c8e",
   "metadata": {},
   "source": [
    "### A Survey of Define Iteration in Programming"
   ]
  },
  {
   "cell_type": "code",
   "execution_count": 45,
   "id": "411426a4",
   "metadata": {},
   "outputs": [
    {
     "ename": "SyntaxError",
     "evalue": "invalid syntax (Temp/ipykernel_16220/3314852551.py, line 3)",
     "output_type": "error",
     "traceback": [
      "\u001b[1;36m  File \u001b[1;32m\"C:\\Users\\asus\\AppData\\Local\\Temp/ipykernel_16220/3314852551.py\"\u001b[1;36m, line \u001b[1;32m3\u001b[0m\n\u001b[1;33m    for i = 1 to 10\u001b[0m\n\u001b[1;37m          ^\u001b[0m\n\u001b[1;31mSyntaxError\u001b[0m\u001b[1;31m:\u001b[0m invalid syntax\n"
     ]
    }
   ],
   "source": [
    "# Numeric Range Loop\n",
    "for i = 1 to 10\n",
    "    <loop body>"
   ]
  },
  {
   "cell_type": "code",
   "execution_count": null,
   "id": "3a2115fd",
   "metadata": {},
   "outputs": [],
   "source": [
    "# Three - Expression Loop\n",
    "\n",
    "for (i = 1; i <= 10; i++)\n",
    "    <loop body>"
   ]
  },
  {
   "cell_type": "code",
   "execution_count": null,
   "id": "d661056b",
   "metadata": {},
   "outputs": [],
   "source": [
    "# Collection - Based or Iterator - Based Loop\n",
    "\n",
    "for i in <collection>\n",
    "    <loop body>"
   ]
  },
  {
   "cell_type": "markdown",
   "id": "267a7375",
   "metadata": {},
   "source": [
    "### The Python for Loop"
   ]
  },
  {
   "cell_type": "code",
   "execution_count": 11,
   "id": "5ad4325b",
   "metadata": {},
   "outputs": [],
   "source": [
    "# Contoh\n",
    "    # for <var> in <iterable>:\n",
    "        # <statement(s)>"
   ]
  },
  {
   "cell_type": "code",
   "execution_count": 12,
   "id": "535485a1",
   "metadata": {},
   "outputs": [
    {
     "name": "stdout",
     "output_type": "stream",
     "text": [
      "foo\n",
      "bar\n",
      "baz\n"
     ]
    }
   ],
   "source": [
    "a = [\"foo\", \"bar\", \"baz\"]\n",
    "for i in a:\n",
    "    print(i)"
   ]
  },
  {
   "cell_type": "code",
   "execution_count": 13,
   "id": "4168a39c",
   "metadata": {},
   "outputs": [
    {
     "name": "stdout",
     "output_type": "stream",
     "text": [
      "foo\n",
      "bar\n",
      "baz\n"
     ]
    }
   ],
   "source": [
    "d = {\"foo\": 1, \"bar\":2, \"baz\":3}\n",
    "for k in d:\n",
    "    print(k)"
   ]
  },
  {
   "cell_type": "code",
   "execution_count": 14,
   "id": "c4c7419f",
   "metadata": {},
   "outputs": [
    {
     "name": "stdout",
     "output_type": "stream",
     "text": [
      "1\n",
      "2\n",
      "3\n"
     ]
    }
   ],
   "source": [
    "for k in d:\n",
    "    print(d[k])"
   ]
  },
  {
   "cell_type": "code",
   "execution_count": 15,
   "id": "b69fb283",
   "metadata": {},
   "outputs": [
    {
     "name": "stdout",
     "output_type": "stream",
     "text": [
      "1\n",
      "2\n",
      "3\n"
     ]
    }
   ],
   "source": [
    "for k in d.values():\n",
    "    print(k)"
   ]
  },
  {
   "cell_type": "code",
   "execution_count": 16,
   "id": "037f6d24",
   "metadata": {},
   "outputs": [
    {
     "name": "stdout",
     "output_type": "stream",
     "text": [
      "foo : 1\n",
      "bar : 2\n",
      "baz : 3\n"
     ]
    }
   ],
   "source": [
    "for k, v in d.items():\n",
    "    print(k, \":\", v)"
   ]
  },
  {
   "cell_type": "markdown",
   "id": "5d58da92",
   "metadata": {},
   "source": [
    "### Iterating Through a Dictionary"
   ]
  },
  {
   "cell_type": "code",
   "execution_count": 17,
   "id": "612561a5",
   "metadata": {},
   "outputs": [
    {
     "name": "stdout",
     "output_type": "stream",
     "text": [
      "foo\n",
      "bar\n",
      "baz\n"
     ]
    }
   ],
   "source": [
    "d = {\"foo\": 1, \"bar\": 2, \"baz\": 3}\n",
    "for k in d:\n",
    "    print(k)"
   ]
  },
  {
   "cell_type": "code",
   "execution_count": 18,
   "id": "2edb3b6c",
   "metadata": {},
   "outputs": [
    {
     "name": "stdout",
     "output_type": "stream",
     "text": [
      "1\n",
      "2\n",
      "3\n"
     ]
    }
   ],
   "source": [
    "# Untuk mengakses nilai dictionary dalam loop, dapat membuat referensi dictionary. Seperti contoh berikut\n",
    "\n",
    "for k in d:\n",
    "    print(d[k])"
   ]
  },
  {
   "cell_type": "code",
   "execution_count": 19,
   "id": "6fb85325",
   "metadata": {},
   "outputs": [
    {
     "name": "stdout",
     "output_type": "stream",
     "text": [
      "1\n",
      "2\n",
      "3\n"
     ]
    }
   ],
   "source": [
    "for v in d.values():\n",
    "    print(v)"
   ]
  },
  {
   "cell_type": "markdown",
   "id": "d0d7bf9a",
   "metadata": {},
   "source": [
    "### The Range() Function"
   ]
  },
  {
   "cell_type": "code",
   "execution_count": 21,
   "id": "759b2f7a",
   "metadata": {},
   "outputs": [
    {
     "name": "stdout",
     "output_type": "stream",
     "text": [
      "0\n",
      "1\n",
      "3\n",
      "4\n"
     ]
    }
   ],
   "source": [
    "for n in (0, 1, 3, 4):\n",
    "    print(n)"
   ]
  },
  {
   "cell_type": "code",
   "execution_count": 25,
   "id": "83ae36e1",
   "metadata": {},
   "outputs": [],
   "source": [
    "# x = range(s)\n",
    "\n",
    "# for n in x:\n",
    "    # print(n)"
   ]
  },
  {
   "cell_type": "markdown",
   "id": "6eba513a",
   "metadata": {},
   "source": [
    "### Altering for Loop Behavior"
   ]
  },
  {
   "cell_type": "code",
   "execution_count": 26,
   "id": "516ddb9d",
   "metadata": {},
   "outputs": [
    {
     "name": "stdout",
     "output_type": "stream",
     "text": [
      "foo\n"
     ]
    }
   ],
   "source": [
    "### The Break and Continue Statements\n",
    "\n",
    "for i in [\"foo\", \"bar\", \"baz\", \"qux\"]:\n",
    "    if \"b\" in i:\n",
    "        break\n",
    "    print(i)"
   ]
  },
  {
   "cell_type": "code",
   "execution_count": 27,
   "id": "7bc94dad",
   "metadata": {},
   "outputs": [
    {
     "name": "stdout",
     "output_type": "stream",
     "text": [
      "foo\n",
      "qux\n"
     ]
    }
   ],
   "source": [
    "for i in [\"foo\", \"bar\", \"baz\", \"qux\"]:\n",
    "    if \"b\" in i:\n",
    "        continue\n",
    "    print(i)"
   ]
  },
  {
   "cell_type": "markdown",
   "id": "bd677cd1",
   "metadata": {},
   "source": [
    "### The else Clause"
   ]
  },
  {
   "cell_type": "code",
   "execution_count": 28,
   "id": "b8ec766f",
   "metadata": {},
   "outputs": [
    {
     "name": "stdout",
     "output_type": "stream",
     "text": [
      "foo\n",
      "bar\n",
      "baz\n",
      "qux\n",
      "Done.\n"
     ]
    }
   ],
   "source": [
    "for i in [\"foo\", \"bar\", \"baz\", \"qux\"]:\n",
    "    print(i)\n",
    "else:\n",
    "    print(\"Done.\") # Will Execute"
   ]
  },
  {
   "cell_type": "code",
   "execution_count": 29,
   "id": "2a67b183",
   "metadata": {},
   "outputs": [
    {
     "name": "stdout",
     "output_type": "stream",
     "text": [
      "foo\n"
     ]
    }
   ],
   "source": [
    "# Klausa else tidak akan dijalankan jika list terhenti dengan pernyataan break:\n",
    "\n",
    "for i in [\"foo\", \"bar\", \"baz\", \"qux\"]:\n",
    "    if i == \"bar\":\n",
    "        break\n",
    "    print(i)\n",
    "else:\n",
    "    print(\"Done.\") # Will Not Execute"
   ]
  },
  {
   "cell_type": "code",
   "execution_count": 44,
   "id": "5d82c572",
   "metadata": {},
   "outputs": [
    {
     "name": "stdout",
     "output_type": "stream",
     "text": [
      "Ketikkan temperatur yang ingin dikonversi, eg.45F, 120C: 98\n",
      "8\n",
      "Masukan Input yang Benar\n",
      "Temperaturnya adalah 0 derajat\n"
     ]
    }
   ],
   "source": [
    "# Another Example\n",
    "temp = input(\"Ketikkan temperatur yang ingin dikonversi, eg.45F, 120C: \")\n",
    "degree = int(temp[:-1])\n",
    "i_convertion = temp[-1]\n",
    "\n",
    "print (i_convertion)\n",
    "result = 0\n",
    "\n",
    "if i_convertion == \"C\":\n",
    "    result = int(round((9 * degree) / 5 + 32))\n",
    "elif i_convertion == \"F\":\n",
    "    result = int(round((degree - 32) * 5 / 9))\n",
    "else:\n",
    "    print(\"Masukan Input yang Benar\")\n",
    "    \n",
    "print(\"Temperaturnya adalah\", result, \"derajat\")"
   ]
  },
  {
   "cell_type": "code",
   "execution_count": 43,
   "id": "5af2c7a6",
   "metadata": {},
   "outputs": [
    {
     "name": "stdout",
     "output_type": "stream",
     "text": [
      "Ketikan Karakter: hallo\n",
      "hallo\n",
      "Ketikan Karakter: stop\n",
      "stop\n"
     ]
    }
   ],
   "source": [
    "while True:\n",
    "    msg = input(\"Ketikan Karakter: \").lower()\n",
    "    print(msg)\n",
    "    if msg == \"stop\":\n",
    "        break"
   ]
  },
  {
   "cell_type": "code",
   "execution_count": null,
   "id": "13e4c0c2",
   "metadata": {},
   "outputs": [],
   "source": []
  }
 ],
 "metadata": {
  "kernelspec": {
   "display_name": "Python 3 (ipykernel)",
   "language": "python",
   "name": "python3"
  },
  "language_info": {
   "codemirror_mode": {
    "name": "ipython",
    "version": 3
   },
   "file_extension": ".py",
   "mimetype": "text/x-python",
   "name": "python",
   "nbconvert_exporter": "python",
   "pygments_lexer": "ipython3",
   "version": "3.8.12"
  },
  "toc": {
   "base_numbering": 1,
   "nav_menu": {},
   "number_sections": true,
   "sideBar": true,
   "skip_h1_title": false,
   "title_cell": "Table of Contents",
   "title_sidebar": "Contents",
   "toc_cell": false,
   "toc_position": {},
   "toc_section_display": true,
   "toc_window_display": true
  }
 },
 "nbformat": 4,
 "nbformat_minor": 5
}
