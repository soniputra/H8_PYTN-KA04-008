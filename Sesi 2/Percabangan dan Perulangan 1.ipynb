{
 "cells": [
  {
   "cell_type": "markdown",
   "id": "5f2abf0d",
   "metadata": {},
   "source": [
    "## Conditional\n",
    "<hr>"
   ]
  },
  {
   "cell_type": "markdown",
   "id": "a76d3909",
   "metadata": {},
   "source": [
    "### Introduction to the If Statement"
   ]
  },
  {
   "cell_type": "code",
   "execution_count": 1,
   "id": "7a26fb60",
   "metadata": {},
   "outputs": [
    {
     "name": "stdout",
     "output_type": "stream",
     "text": [
      "Yes\n",
      "Yes\n",
      "Yes\n"
     ]
    }
   ],
   "source": [
    "x = 0\n",
    "y = 5\n",
    "\n",
    "if x < y:                                         # Truthy Statement\n",
    "    print('Yes')\n",
    "    \n",
    "if y < x:                                         # Falsy Statement\n",
    "    print('Yes')\n",
    "    \n",
    "if x:                                             # Falsy Statement\n",
    "    print('Yes')\n",
    "\n",
    "if y:                                             # Truthy Statement\n",
    "    print('Yes')\n",
    "\n",
    "if 'aul' < 'grault':                              # Truthy Statement\n",
    "    print('Yes')\n",
    "\n",
    "if 'quux' in ['foo', 'bar', 'baz']:               # Truthy Statement\n",
    "    print('Yes')"
   ]
  },
  {
   "cell_type": "markdown",
   "id": "105a835d",
   "metadata": {},
   "source": [
    "### Grouping Statements : Indentation and Blocks"
   ]
  },
  {
   "cell_type": "markdown",
   "id": "280c0871",
   "metadata": {},
   "source": [
    "#### Python: It's All About the Indention"
   ]
  },
  {
   "cell_type": "markdown",
   "id": "152bf032",
   "metadata": {},
   "source": [
    "##### <b>\n",
    "    if<expression>\n",
    "       <statement>\n",
    "       <statement>\n",
    "       ...\n",
    "       <statement>\n",
    "    <following_statement>\n",
    "</b>"
   ]
  },
  {
   "cell_type": "code",
   "execution_count": 2,
   "id": "9b2cc663",
   "metadata": {},
   "outputs": [
    {
     "name": "stdout",
     "output_type": "stream",
     "text": [
      "After conditional\n"
     ]
    }
   ],
   "source": [
    "if 'foo' in ['bar', 'baz', 'qux']:\n",
    "    print('Expression was true')\n",
    "    print('Executing statement in suite')\n",
    "    print('......')\n",
    "    print('Done.')\n",
    "print('After conditional')"
   ]
  },
  {
   "cell_type": "code",
   "execution_count": 3,
   "id": "6ccbcd13",
   "metadata": {},
   "outputs": [
    {
     "name": "stdout",
     "output_type": "stream",
     "text": [
      "Outer Condition is true\n",
      "Between Inner Condition\n",
      "Inner Condition 2\n",
      "End of Outer Condition\n",
      "After Outer Condition\n"
     ]
    }
   ],
   "source": [
    "# Does line Execute?                    Yes     No\n",
    "#                                       ---    ----\n",
    "if 'foo' in ['foo', 'bar', 'baz']:    #  X\n",
    "    print('Outer Condition is true')  #  X\n",
    "    \n",
    "    if 10 > 20:                       #  X\n",
    "        print('Inner Condition 1')    #         X\n",
    "    \n",
    "    print('Between Inner Condition')  #  X\n",
    "    \n",
    "    if 10 < 20:                       #  X\n",
    "        print('Inner Condition 2')    #  X\n",
    "        \n",
    "    print('End of Outer Condition')   #  X\n",
    "print('After Outer Condition')        #  X"
   ]
  },
  {
   "cell_type": "markdown",
   "id": "a546fe80",
   "metadata": {},
   "source": [
    "<hr>"
   ]
  },
  {
   "cell_type": "markdown",
   "id": "0e71767d",
   "metadata": {},
   "source": [
    "#### The else and elif Clauses"
   ]
  },
  {
   "cell_type": "markdown",
   "id": "2fa20984",
   "metadata": {},
   "source": [
    "##### <b>\n",
    "    if<expression>\n",
    "       <statement(S)>\n",
    "    else:\n",
    "       <statement(S)>\n",
    "</b>"
   ]
  },
  {
   "cell_type": "code",
   "execution_count": 4,
   "id": "758ec310",
   "metadata": {},
   "outputs": [
    {
     "name": "stdout",
     "output_type": "stream",
     "text": [
      "(first suite)\n",
      "x is small\n"
     ]
    }
   ],
   "source": [
    "# x kurang dari 50\n",
    "\n",
    "x = 20\n",
    "\n",
    "if x < 50:\n",
    "    print('(first suite)')\n",
    "    print('x is small')\n",
    "else:\n",
    "    print('(second suite)')\n",
    "    print('x is Large')"
   ]
  },
  {
   "cell_type": "code",
   "execution_count": 5,
   "id": "569451fa",
   "metadata": {},
   "outputs": [
    {
     "name": "stdout",
     "output_type": "stream",
     "text": [
      "(second suite)\n",
      "x is Large\n"
     ]
    }
   ],
   "source": [
    "# x lebih besar dari 50\n",
    "\n",
    "x = 120\n",
    "\n",
    "if x < 50:\n",
    "    print('(first suite)')\n",
    "    print('x is small')\n",
    "else:\n",
    "    print('(second suite)')\n",
    "    print('x is Large')"
   ]
  },
  {
   "cell_type": "code",
   "execution_count": 6,
   "id": "b2453a45",
   "metadata": {},
   "outputs": [
    {
     "name": "stdout",
     "output_type": "stream",
     "text": [
      "Uang Tidak Cukup\n"
     ]
    }
   ],
   "source": [
    "# Another Example\n",
    "\n",
    "hargaBuku = 20000\n",
    "hargaMajalah = 5000\n",
    "uang = 2000\n",
    "\n",
    "if uang > hargaBuku:\n",
    "    print(\"Beli Buku\")\n",
    "else:\n",
    "    print(\"Uang Tidak Cukup\")"
   ]
  },
  {
   "cell_type": "markdown",
   "id": "aa9ace34",
   "metadata": {},
   "source": [
    "##### <b>\n",
    "    if<expression>\n",
    "       <statement(S)>\n",
    "    elif<expression>:\n",
    "       <statement(S)>\n",
    "    elif<expression>:\n",
    "       <statement(S)>\n",
    "       ...\n",
    "    else<expression>:\n",
    "       <statement(S)>\n",
    "</b>"
   ]
  },
  {
   "cell_type": "code",
   "execution_count": 7,
   "id": "5baf023a",
   "metadata": {},
   "outputs": [
    {
     "name": "stdout",
     "output_type": "stream",
     "text": [
      "Uang Tidak Cukup\n"
     ]
    }
   ],
   "source": [
    "# Example 1\n",
    "\n",
    "hargaBuku = 20000\n",
    "hargaMajalah = 5000\n",
    "uang = 2000\n",
    "\n",
    "if uang > hargaBuku:\n",
    "    print(\"Beli Buku\")\n",
    "elif uang > hargaMajalah:\n",
    "    print(\"Beli Majalah\")\n",
    "else:\n",
    "    print(\"Uang Tidak Cukup\")"
   ]
  },
  {
   "cell_type": "code",
   "execution_count": 8,
   "id": "948eb75b",
   "metadata": {},
   "outputs": [
    {
     "name": "stdout",
     "output_type": "stream",
     "text": [
      "Hello Hactiv8\n"
     ]
    }
   ],
   "source": [
    "# Example 2\n",
    "\n",
    "name = \"Hacktiv8\"\n",
    "\n",
    "if name == \"Fred\":\n",
    "    print('Hello Fred')\n",
    "elif name == \"Xander\":\n",
    "    print(\"Hello Xander\")\n",
    "elif name == \"Hacktiv8\":\n",
    "    print(\"Hello Hactiv8\")\n",
    "elif name == \"Arnold\":\n",
    "    print(\"Hello Arnold\")\n",
    "else:\n",
    "    print(\"I don't know who you are!\")"
   ]
  },
  {
   "cell_type": "code",
   "execution_count": 9,
   "id": "9bb585e3",
   "metadata": {},
   "outputs": [
    {
     "name": "stdout",
     "output_type": "stream",
     "text": [
      "Foo\n"
     ]
    }
   ],
   "source": [
    "# Example 3\n",
    "\n",
    "if \"a\" in \"bar\":\n",
    "    print(\"Foo\")\n",
    "elif 1/0:\n",
    "    print(\"This won't happen\")\n",
    "elif var:\n",
    "    print(\"This won't either\")"
   ]
  },
  {
   "cell_type": "markdown",
   "id": "de7cf06b",
   "metadata": {},
   "source": [
    "#### One-Line if Statements"
   ]
  },
  {
   "cell_type": "markdown",
   "id": "ff54e217",
   "metadata": {},
   "source": [
    "##### <b>\n",
    "    if<expression>:\n",
    "       <statement>\n",
    "</b>"
   ]
  },
  {
   "cell_type": "code",
   "execution_count": 10,
   "id": "7957ff23",
   "metadata": {},
   "outputs": [
    {
     "name": "stdout",
     "output_type": "stream",
     "text": [
      "1\n",
      "2\n",
      "3\n"
     ]
    }
   ],
   "source": [
    "if \"f\" in \"foo\": print(\"1\"); print(\"2\"); print(\"3\")"
   ]
  },
  {
   "cell_type": "code",
   "execution_count": 11,
   "id": "8d11edff",
   "metadata": {},
   "outputs": [],
   "source": [
    "if \"z\" in \"foo\": print(\"1\"); print(\"2\"); print(\"3\")"
   ]
  },
  {
   "cell_type": "code",
   "execution_count": 12,
   "id": "378aabe6",
   "metadata": {},
   "outputs": [
    {
     "name": "stdout",
     "output_type": "stream",
     "text": [
      "qux\n",
      "quux\n"
     ]
    }
   ],
   "source": [
    "x = 2\n",
    "\n",
    "if x == 1: print(\"foo\"); print(\"bar\"); print(\"baz\")\n",
    "elif x == 2: print(\"qux\"); print(\"quux\")\n",
    "else: print(\"corge\"); print(\"grault\")"
   ]
  },
  {
   "cell_type": "code",
   "execution_count": 13,
   "id": "6c2e0082",
   "metadata": {},
   "outputs": [
    {
     "name": "stdout",
     "output_type": "stream",
     "text": [
      "corge\n",
      "grault\n"
     ]
    }
   ],
   "source": [
    "x = 3\n",
    "\n",
    "if x == 1: print(\"foo\"); print(\"bar\"); print(\"baz\")\n",
    "elif x == 2: print(\"qux\"); print(\"quux\")\n",
    "else: print(\"corge\"); print(\"grault\")"
   ]
  },
  {
   "cell_type": "code",
   "execution_count": 14,
   "id": "3c6c7441",
   "metadata": {},
   "outputs": [
    {
     "name": "stdout",
     "output_type": "stream",
     "text": [
      "corge\n",
      "grault\n"
     ]
    }
   ],
   "source": [
    "x = 3\n",
    "\n",
    "if x == 1:\n",
    "    print(\"foo\")\n",
    "    print(\"bar\")\n",
    "    print(\"baz\")\n",
    "elif x == 2:\n",
    "    print(\"qux\")\n",
    "    print(\"quux\")\n",
    "else:\n",
    "    print(\"corge\")\n",
    "    print(\"grault\")"
   ]
  },
  {
   "cell_type": "markdown",
   "id": "c6bcbd38",
   "metadata": {},
   "source": [
    "#### Conditional Expressions (Python's Ternary Operator)"
   ]
  },
  {
   "cell_type": "markdown",
   "id": "fbfe7d9a",
   "metadata": {},
   "source": [
    "##### <b>\n",
    "    <expression if <conditional_expression> else <expression2>\n",
    "</b>"
   ]
  },
  {
   "cell_type": "code",
   "execution_count": 15,
   "id": "8d8064f5",
   "metadata": {},
   "outputs": [
    {
     "name": "stdout",
     "output_type": "stream",
     "text": [
      "Let's go to the beach\n"
     ]
    }
   ],
   "source": [
    "raining = False\n",
    "print(\"Let's go to the\", 'beach' if not raining else 'library')"
   ]
  },
  {
   "cell_type": "code",
   "execution_count": 16,
   "id": "b8379a2a",
   "metadata": {},
   "outputs": [
    {
     "data": {
      "text/plain": [
       "'teen'"
      ]
     },
     "execution_count": 16,
     "metadata": {},
     "output_type": "execute_result"
    }
   ],
   "source": [
    "age = 12\n",
    "\n",
    "s = \"teen\" if age < 21 else \"adult\"\n",
    "s"
   ]
  },
  {
   "cell_type": "code",
   "execution_count": 17,
   "id": "4cfe4c2f",
   "metadata": {},
   "outputs": [
    {
     "data": {
      "text/plain": [
       "'no'"
      ]
     },
     "execution_count": 17,
     "metadata": {},
     "output_type": "execute_result"
    }
   ],
   "source": [
    "'yes' if ('qux' in ['foo', 'bar', 'baz']) else 'no'"
   ]
  },
  {
   "cell_type": "code",
   "execution_count": null,
   "id": "b8c17884",
   "metadata": {},
   "outputs": [],
   "source": [
    "a = input(\"Masukan Angka\")\n",
    "b = input(\"Masukan Angka\")\n",
    "\n",
    "if a > b:\n",
    "    m = a\n",
    "else:\n",
    "    m = b"
   ]
  },
  {
   "cell_type": "markdown",
   "id": "409414be",
   "metadata": {},
   "source": [
    "<b> \n",
    "Catatan\n",
    "</b>\n",
    "<hr>\n",
    "<p>Cast 1</p>\n",
    "if <conditional_expression> is true, <expression 1> is returned and <expression 2> is not evaluated\n",
    "<p>Cast 2</p>\n",
    "if <conditional_expression> is false, <expression 2> is returned and <expression 1> is not evaluated"
   ]
  },
  {
   "cell_type": "markdown",
   "id": "3808e79f",
   "metadata": {},
   "source": [
    "#### The Python pass Statement"
   ]
  },
  {
   "cell_type": "code",
   "execution_count": null,
   "id": "703dcbbf",
   "metadata": {},
   "outputs": [],
   "source": [
    "# Example Code 1\n",
    "\n",
    "if True:\n",
    "\n",
    "print(\"foo\")"
   ]
  },
  {
   "cell_type": "code",
   "execution_count": null,
   "id": "a7e18f4b",
   "metadata": {},
   "outputs": [],
   "source": [
    "# Example Code 2\n",
    "# Solusi dari Example Code 1\n",
    "\n",
    "if True:\n",
    "    pass\n",
    "print(\"foo\")"
   ]
  },
  {
   "cell_type": "markdown",
   "id": "09fdfb3f",
   "metadata": {},
   "source": [
    "#### Python \"while\" Loops"
   ]
  },
  {
   "cell_type": "markdown",
   "id": "dcb9953a",
   "metadata": {},
   "source": [
    "##### <b>\n",
    "    while<expression>:\n",
    "        <statement(s)>\n",
    "</b>"
   ]
  },
  {
   "cell_type": "code",
   "execution_count": null,
   "id": "5b64b027",
   "metadata": {},
   "outputs": [],
   "source": [
    "n = 5\n",
    "while n > 0:\n",
    "    n -= 1\n",
    "    print(n)"
   ]
  },
  {
   "cell_type": "code",
   "execution_count": null,
   "id": "707d8459",
   "metadata": {},
   "outputs": [],
   "source": [
    "i = 1\n",
    "while i < 6:\n",
    "    print(i)\n",
    "    i += 1\n"
   ]
  },
  {
   "cell_type": "markdown",
   "id": "97970a4d",
   "metadata": {},
   "source": [
    "#### Python \"while\" Loops"
   ]
  },
  {
   "cell_type": "markdown",
   "id": "eb74e90e",
   "metadata": {},
   "source": [
    "##### <b>\n",
    "    while<expression>:  \n",
    "        <statement>     \n",
    "        <statement>     \n",
    "        break           \n",
    "        <statement>     \n",
    "        <statement>     \n",
    "        continue        \n",
    "        <statement>     \n",
    "        <statement>     \n",
    "    <statement>\n",
    "</b>"
   ]
  },
  {
   "cell_type": "code",
   "execution_count": null,
   "id": "f73e5aaa",
   "metadata": {},
   "outputs": [],
   "source": [
    "# Example Code 1\n",
    "\n",
    "n = 5\n",
    "while n > 0:\n",
    "    n -= 1\n",
    "    if n == 2:\n",
    "        break # Break Statement\n",
    "    print(n)\n",
    "print(\"Loop Ended.\")"
   ]
  },
  {
   "cell_type": "code",
   "execution_count": null,
   "id": "bc745736",
   "metadata": {},
   "outputs": [],
   "source": [
    "# Example Code 2\n",
    "\n",
    "n = 5\n",
    "while n > 0:\n",
    "    n -= 1\n",
    "    if n == 2:\n",
    "        continue # continue Statement\n",
    "    print(n)\n",
    "print(\"Loop Ended.\")"
   ]
  },
  {
   "cell_type": "markdown",
   "id": "3c817d48",
   "metadata": {},
   "source": [
    "#### The Else Clause"
   ]
  },
  {
   "cell_type": "markdown",
   "id": "b0dda19d",
   "metadata": {},
   "source": [
    "##### <b>\n",
    "    while<expression>:  \n",
    "        <statement(s)>\n",
    "    else:\n",
    "        <additional_statement(s)>\n",
    "</b>"
   ]
  },
  {
   "cell_type": "code",
   "execution_count": null,
   "id": "f92c0da1",
   "metadata": {},
   "outputs": [],
   "source": [
    "n = 5\n",
    "\n",
    "while n > 0:\n",
    "    n -= 1\n",
    "    print(n)\n",
    "else:\n",
    "    print(\"Loop Done\")"
   ]
  },
  {
   "cell_type": "code",
   "execution_count": null,
   "id": "a5ee23d1",
   "metadata": {},
   "outputs": [],
   "source": [
    "n = 5\n",
    "\n",
    "while n > 0:\n",
    "    n -= 1\n",
    "    print(n)\n",
    "    if n == 2:\n",
    "        break\n",
    "else:\n",
    "    print(\"Loop Done\")"
   ]
  },
  {
   "cell_type": "markdown",
   "id": "43803da8",
   "metadata": {},
   "source": [
    "#### Infinte Loops"
   ]
  },
  {
   "cell_type": "markdown",
   "id": "cd1c3b49",
   "metadata": {},
   "source": [
    "##### <b>\n",
    "    --> Pertimbangkan contoh ini :\n",
    "    while True:\n",
    "        print(\"Foo\")\n",
    "</b>"
   ]
  },
  {
   "cell_type": "markdown",
   "id": "e77c5dd1",
   "metadata": {},
   "source": [
    "#### Nested While Loops"
   ]
  },
  {
   "cell_type": "markdown",
   "id": "ec4c8e5c",
   "metadata": {},
   "source": [
    "Lanjut di <a href=\"https://github.com/soniputra/H8_PYTN-KA04-008/blob/master/Sesi%202/Percabangan%20dan%20Perulangan%202.ipynb\"> Sini </a>"
   ]
  }
 ],
 "metadata": {
  "kernelspec": {
   "display_name": "Python 3",
   "language": "python",
   "name": "python3"
  },
  "language_info": {
   "codemirror_mode": {
    "name": "ipython",
    "version": 3
   },
   "file_extension": ".py",
   "mimetype": "text/x-python",
   "name": "python",
   "nbconvert_exporter": "python",
   "pygments_lexer": "ipython3",
   "version": "3.8.12"
  },
  "toc": {
   "base_numbering": 1,
   "nav_menu": {},
   "number_sections": true,
   "sideBar": true,
   "skip_h1_title": false,
   "title_cell": "Table of Contents",
   "title_sidebar": "Contents",
   "toc_cell": false,
   "toc_position": {
    "height": "calc(100% - 180px)",
    "left": "10px",
    "top": "150px",
    "width": "273.188px"
   },
   "toc_section_display": true,
   "toc_window_display": true
  }
 },
 "nbformat": 4,
 "nbformat_minor": 5
}
