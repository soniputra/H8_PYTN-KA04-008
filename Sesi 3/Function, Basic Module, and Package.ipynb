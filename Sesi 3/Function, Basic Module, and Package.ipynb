{
 "cells": [
  {
   "cell_type": "markdown",
   "id": "188d3394",
   "metadata": {},
   "source": [
    "### Python Function"
   ]
  },
  {
   "cell_type": "markdown",
   "id": "5a8ffdb4",
   "metadata": {},
   "source": [
    "#### Defining a Function"
   ]
  },
  {
   "cell_type": "code",
   "execution_count": null,
   "id": "3628675f",
   "metadata": {},
   "outputs": [],
   "source": [
    "# Contoh\n",
    "\n",
    "# def function_name( Parameters ):\n",
    "    # \"docsting\"\n",
    "    # statement(s)"
   ]
  },
  {
   "cell_type": "code",
   "execution_count": 7,
   "id": "921ec50d",
   "metadata": {},
   "outputs": [],
   "source": [
    "def my_function(p, l):\n",
    "    \"Function untuk menghitung luas\"\n",
    "    print(p * l)"
   ]
  },
  {
   "cell_type": "code",
   "execution_count": 8,
   "id": "9f7e8a81",
   "metadata": {},
   "outputs": [
    {
     "name": "stdout",
     "output_type": "stream",
     "text": [
      "8\n"
     ]
    }
   ],
   "source": [
    "my_function(2,4)"
   ]
  },
  {
   "cell_type": "code",
   "execution_count": 9,
   "id": "750f99c8",
   "metadata": {},
   "outputs": [],
   "source": [
    "def printme( str ):\n",
    "    \"This prints a passed string into this function\"\n",
    "    print( str )\n",
    "    return"
   ]
  },
  {
   "cell_type": "markdown",
   "id": "b5bbec84",
   "metadata": {},
   "source": [
    "#### Calling a Function"
   ]
  },
  {
   "cell_type": "code",
   "execution_count": 10,
   "id": "fa79300e",
   "metadata": {},
   "outputs": [
    {
     "name": "stdout",
     "output_type": "stream",
     "text": [
      "I'm first call to user defined function!\n",
      "Again second calll to the same function\n"
     ]
    }
   ],
   "source": [
    "# Pendefinisian Fungsi di sini\n",
    "def printme( str ):\n",
    "    \"This prints a passed string into this function\"\n",
    "    print( str )\n",
    "    return;\n",
    "\n",
    "# Cara memanggil fungsi printme\n",
    "printme(\"I'm first call to user defined function!\")\n",
    "printme(\"Again second calll to the same function\")"
   ]
  },
  {
   "cell_type": "markdown",
   "id": "32fea916",
   "metadata": {},
   "source": [
    "#### Pass by Reference vs Value"
   ]
  },
  {
   "cell_type": "code",
   "execution_count": 12,
   "id": "88a56631",
   "metadata": {},
   "outputs": [
    {
     "name": "stdout",
     "output_type": "stream",
     "text": [
      "Values inside the function:  [10, 20, 30, [1, 2, 3, 4]]\n",
      "Values outside the function:  [10, 20, 30, [1, 2, 3, 4]]\n"
     ]
    }
   ],
   "source": [
    "# Contoh 1\n",
    "\n",
    "# Pendefinisian Fungsi di sini\n",
    "def changeme( mylist ):\n",
    "    \"This changes a passed list into this function\"\n",
    "    mylist.append([1,2,3,4]);\n",
    "    print(\"Values inside the function: \", mylist)\n",
    "    return\n",
    "\n",
    "# Cara manggil fungsi changeme\n",
    "mylist = [ 10,20,30 ];\n",
    "changeme(mylist);\n",
    "print(\"Values outside the function: \", mylist)"
   ]
  },
  {
   "cell_type": "code",
   "execution_count": 14,
   "id": "df37b9c0",
   "metadata": {},
   "outputs": [
    {
     "name": "stdout",
     "output_type": "stream",
     "text": [
      "Values inside the function:  [1, 2, 3, 4]\n",
      "Values outside the function:  [10, 20, 30]\n"
     ]
    }
   ],
   "source": [
    "# Contoh 2\n",
    "\n",
    "def changeme( mylist ):\n",
    "    \"This changes a passed list into this function\"\n",
    "    mylist = [1,2,3,4]; # This would assign new references in mylist\n",
    "    print(\"Values inside the function: \", mylist)\n",
    "    return\n",
    "\n",
    "# Cara memanggil fungsi changeme\n",
    "mylist = [10,20,30];\n",
    "changeme( mylist );\n",
    "print(\"Values outside the function: \", mylist)"
   ]
  },
  {
   "cell_type": "markdown",
   "id": "68aa9b25",
   "metadata": {},
   "source": [
    "### Function Arguments"
   ]
  },
  {
   "cell_type": "markdown",
   "id": "b326fb0f",
   "metadata": {},
   "source": [
    "#### Required Arguments"
   ]
  },
  {
   "cell_type": "code",
   "execution_count": 15,
   "id": "e2276bc8",
   "metadata": {},
   "outputs": [
    {
     "ename": "TypeError",
     "evalue": "printme() missing 1 required positional argument: 'str'",
     "output_type": "error",
     "traceback": [
      "\u001b[1;31m---------------------------------------------------------------------------\u001b[0m",
      "\u001b[1;31mTypeError\u001b[0m                                 Traceback (most recent call last)",
      "\u001b[1;32m~\\AppData\\Local\\Temp/ipykernel_11632/2179679252.py\u001b[0m in \u001b[0;36m<module>\u001b[1;34m\u001b[0m\n\u001b[0;32m      8\u001b[0m \u001b[1;33m\u001b[0m\u001b[0m\n\u001b[0;32m      9\u001b[0m \u001b[1;31m# Pemanggilan Fungsi printme\u001b[0m\u001b[1;33m\u001b[0m\u001b[1;33m\u001b[0m\u001b[1;33m\u001b[0m\u001b[0m\n\u001b[1;32m---> 10\u001b[1;33m \u001b[0mprintme\u001b[0m\u001b[1;33m(\u001b[0m\u001b[1;33m)\u001b[0m\u001b[1;33m\u001b[0m\u001b[1;33m\u001b[0m\u001b[0m\n\u001b[0m",
      "\u001b[1;31mTypeError\u001b[0m: printme() missing 1 required positional argument: 'str'"
     ]
    }
   ],
   "source": [
    "# Hasil Error\n",
    "\n",
    "# Pendefinisian Fungsi\n",
    "def printme( str ):\n",
    "    \"This prints a passed string into this function\"\n",
    "    print( str )\n",
    "    return;\n",
    "\n",
    "# Pemanggilan Fungsi printme\n",
    "printme()"
   ]
  },
  {
   "cell_type": "markdown",
   "id": "f4a05462",
   "metadata": {},
   "source": [
    "#### Keyword Arguments"
   ]
  },
  {
   "cell_type": "code",
   "execution_count": 19,
   "id": "14bec526",
   "metadata": {},
   "outputs": [
    {
     "name": "stdout",
     "output_type": "stream",
     "text": [
      "Hacktiv8\n"
     ]
    }
   ],
   "source": [
    "# Contoh 1\n",
    "\n",
    "# Pendefinisian Fungsi\n",
    "def printme( str ):\n",
    "    \"This prints a passed string into this function\"\n",
    "    print( str )\n",
    "    return;\n",
    "\n",
    "# Pemanggilan Fungsi printme\n",
    "printme(str = \"Hacktiv8\")"
   ]
  },
  {
   "cell_type": "code",
   "execution_count": 18,
   "id": "80dfbd50",
   "metadata": {},
   "outputs": [
    {
     "name": "stdout",
     "output_type": "stream",
     "text": [
      "Name :  Hacktiv8\n",
      "Age :  4\n"
     ]
    }
   ],
   "source": [
    "# Contoh 2\n",
    "\n",
    "# Pendefinisian Fungsi\n",
    "def printinfo( name, age ):\n",
    "    \"This prints a passed string into this function\"\n",
    "    print(\"Name : \", name)\n",
    "    print(\"Age : \", age)\n",
    "    return;\n",
    "\n",
    "# Pemanggilan Fungsi printme\n",
    "printinfo(age = 4, name = \"Hacktiv8\")"
   ]
  },
  {
   "cell_type": "markdown",
   "id": "73f679f7",
   "metadata": {},
   "source": [
    "#### Default Arguments"
   ]
  },
  {
   "cell_type": "code",
   "execution_count": 21,
   "id": "57ad0213",
   "metadata": {},
   "outputs": [
    {
     "name": "stdout",
     "output_type": "stream",
     "text": [
      "Name :  Hacktiv8\n",
      "Age :  50\n",
      "Name :  hacktiv\n",
      "Age :  26\n"
     ]
    }
   ],
   "source": [
    "# Pendefinisian Fungsi\n",
    "def printinfo( name, age = 26 ):\n",
    "    \"This prints a passed string into this function\"\n",
    "    print(\"Name : \", name)\n",
    "    print(\"Age : \", age)\n",
    "    return;\n",
    "\n",
    "# Pemanggilan Fungsi printme\n",
    "printinfo(age = 50, name = \"Hacktiv8\")\n",
    "printinfo(name = \"hacktiv\")"
   ]
  },
  {
   "cell_type": "markdown",
   "id": "22500ee1",
   "metadata": {},
   "source": [
    "#### Variabel - Length Arguments"
   ]
  },
  {
   "cell_type": "code",
   "execution_count": 24,
   "id": "e149903e",
   "metadata": {},
   "outputs": [],
   "source": [
    "# def functionname([formal_args,] * var_args_tuple):\n",
    "    # \"Function_docstring\"\n",
    "    # function_suite\n",
    "    # return [expression]"
   ]
  },
  {
   "cell_type": "code",
   "execution_count": 25,
   "id": "76cc062d",
   "metadata": {},
   "outputs": [
    {
     "name": "stdout",
     "output_type": "stream",
     "text": [
      "Output is : \n",
      "10\n",
      "Output is : \n",
      "70\n",
      "60\n",
      "50\n",
      "a\n"
     ]
    }
   ],
   "source": [
    "# Pendefinisian Fungsi\n",
    "def printinfo( arg1, *vartuple ):\n",
    "    \"This prints a variabel passed arguments\"\n",
    "    print(\"Output is : \")\n",
    "    print(arg1)\n",
    "    for var in vartuple:\n",
    "        print(var)\n",
    "    return;\n",
    "\n",
    "# Pemanggilan Fungsi printme\n",
    "printinfo( 10 )\n",
    "printinfo( 70, 60, 50, \"a\" )"
   ]
  },
  {
   "cell_type": "markdown",
   "id": "84e841a1",
   "metadata": {},
   "source": [
    "### The Anonymous Function"
   ]
  },
  {
   "cell_type": "markdown",
   "id": "260b6340",
   "metadata": {},
   "source": [
    "#### Contoh Syntax dari Lambda Functions yang mengandung hanya single statement"
   ]
  },
  {
   "cell_type": "code",
   "execution_count": 26,
   "id": "f0df2306",
   "metadata": {},
   "outputs": [],
   "source": [
    "# lambda[arg1 [,arg2, ..... ,argn]]: expression"
   ]
  },
  {
   "cell_type": "code",
   "execution_count": 35,
   "id": "0ad6817d",
   "metadata": {},
   "outputs": [
    {
     "name": "stdout",
     "output_type": "stream",
     "text": [
      "Value of total:  30\n",
      "Value of total:  40\n",
      "\n",
      "Value of total:  None\n",
      "Value of total:  None\n"
     ]
    }
   ],
   "source": [
    "# Pendefinisian Fungsi\n",
    "sum = lambda arg1, arg2: arg1 + arg2;\n",
    "\n",
    "print(\"Value of total: \", sum( 10, 20 ))\n",
    "print(\"Value of total: \", sum( 20, 20 ))\n",
    "\n",
    "def sum(arg1,arg2):\n",
    "    arg1 + arg2\n",
    "\n",
    "# Pemanggilan sum sebagai fungsi\n",
    "print(\"\")\n",
    "print(\"Value of total: \", sum( 10, 20 ))\n",
    "print(\"Value of total: \", sum( 20, 20 ))"
   ]
  },
  {
   "cell_type": "markdown",
   "id": "3b490fb4",
   "metadata": {},
   "source": [
    "### The Return Statement"
   ]
  },
  {
   "cell_type": "markdown",
   "id": "3077e295",
   "metadata": {},
   "source": [
    "#### Contoh cara mengembalikan nilai dari fungsi"
   ]
  },
  {
   "cell_type": "code",
   "execution_count": 36,
   "id": "4b076972",
   "metadata": {},
   "outputs": [
    {
     "name": "stdout",
     "output_type": "stream",
     "text": [
      "Inside the function:  30\n",
      "Outside the function :  40\n"
     ]
    }
   ],
   "source": [
    "# Pendefinisian Fungsi\n",
    "def sum( arg1, arg2 ):\n",
    "    \"Add both the parameters and return them.\"\n",
    "    total = arg1 + arg2\n",
    "    total2 = total + arg1\n",
    "    print(\"Inside the function: \", total)\n",
    "    return total2\n",
    "\n",
    "# Pemanggilan Fungsi sum\n",
    "total = sum(10,20)\n",
    "print(\"Outside the function : \", total)"
   ]
  },
  {
   "cell_type": "markdown",
   "id": "dca048a1",
   "metadata": {},
   "source": [
    "### Scope of Variables"
   ]
  },
  {
   "cell_type": "markdown",
   "id": "96ebd6d0",
   "metadata": {},
   "source": [
    "#### Global vs Local Variables"
   ]
  },
  {
   "cell_type": "code",
   "execution_count": 40,
   "id": "b9e6cb70",
   "metadata": {},
   "outputs": [
    {
     "name": "stdout",
     "output_type": "stream",
     "text": [
      "Inside the function local total:  30\n",
      "Outside the function global total :  0\n"
     ]
    }
   ],
   "source": [
    "# Contoh 1\n",
    "\n",
    "total = 0;\n",
    "\n",
    "def sum(arg1, arg2):\n",
    "    \n",
    "    total = arg1 + arg2;\n",
    "    print(\"Inside the function local total: \", total)\n",
    "    return total;\n",
    "\n",
    "sum(10,20);\n",
    "print(\"Outside the function global total : \", total)"
   ]
  },
  {
   "cell_type": "code",
   "execution_count": 44,
   "id": "90d03915",
   "metadata": {},
   "outputs": [
    {
     "data": {
      "text/plain": [
       "40"
      ]
     },
     "execution_count": 44,
     "metadata": {},
     "output_type": "execute_result"
    }
   ],
   "source": [
    "# Contoh 2\n",
    "\n",
    "jumlahKucing = 20\n",
    "\n",
    "def jumlahHewan():\n",
    "    jumlahAnjing = 30\n",
    "    return jumlahKucing + jumlahAnjing\n",
    "\n",
    "def jumlahKelinci():\n",
    "    return jumlahKucing + jumlahKucing\n",
    "\n",
    "jumlahHewan()\n",
    "jumlahKelinci()"
   ]
  },
  {
   "cell_type": "markdown",
   "id": "67481b1d",
   "metadata": {},
   "source": [
    "### Python Modules: Overview"
   ]
  },
  {
   "cell_type": "markdown",
   "id": "cd3f0378",
   "metadata": {},
   "source": [
    "#### Pendahuluan"
   ]
  },
  {
   "cell_type": "code",
   "execution_count": 46,
   "id": "202c2c1e",
   "metadata": {},
   "outputs": [],
   "source": [
    "s = \"Hacktiv8-PTP Python For Data Science\"\n",
    "a = [100,200,300]\n",
    "\n",
    "def foo(arg):\n",
    "    print(f'arg = {arg}')\n",
    "\n",
    "class Foo:\n",
    "    pass"
   ]
  },
  {
   "cell_type": "markdown",
   "id": "04acbd7d",
   "metadata": {},
   "source": [
    "#### Objek ini dapat diakses dengan mengimpor modul dengan cara sebagai berikut:"
   ]
  },
  {
   "cell_type": "code",
   "execution_count": 48,
   "id": "5147887c",
   "metadata": {},
   "outputs": [],
   "source": [
    "# >>> import mod\n",
    "# >>> print(mod.s)\n",
    "# Hacktiv8-PTP Python For Data Science\n",
    "# >>> mod.a\n",
    "# [100,200,300]\n",
    "# >>> mod.foo(['quux','corge','grault'])\n",
    "# arg = ['quux', 'corge', 'grault']\n",
    "# >>> x = mod.Foo()\n",
    "# >>> x\n",
    "# <mod.Foo object at o0x03c181F0>"
   ]
  },
  {
   "cell_type": "markdown",
   "id": "e97b1518",
   "metadata": {},
   "source": [
    "### Python Packages"
   ]
  },
  {
   "cell_type": "code",
   "execution_count": null,
   "id": "08cbe279",
   "metadata": {},
   "outputs": [],
   "source": [
    "# Contoh 1\n",
    "\n",
    "def foo(arg):\n",
    "    print(f'arg = {arg}')\n",
    "\n",
    "class Foo:\n",
    "    pass"
   ]
  },
  {
   "cell_type": "code",
   "execution_count": null,
   "id": "28b424b6",
   "metadata": {},
   "outputs": [],
   "source": [
    "# Contoh 2\n",
    "\n",
    "def bar(arg):\n",
    "    print(f'arg = {arg}')\n",
    "\n",
    "class Bar:\n",
    "    pass"
   ]
  },
  {
   "cell_type": "code",
   "execution_count": null,
   "id": "e6fe72bf",
   "metadata": {},
   "outputs": [],
   "source": []
  }
 ],
 "metadata": {
  "kernelspec": {
   "display_name": "Python 3 (ipykernel)",
   "language": "python",
   "name": "python3"
  },
  "language_info": {
   "codemirror_mode": {
    "name": "ipython",
    "version": 3
   },
   "file_extension": ".py",
   "mimetype": "text/x-python",
   "name": "python",
   "nbconvert_exporter": "python",
   "pygments_lexer": "ipython3",
   "version": "3.8.12"
  },
  "toc": {
   "base_numbering": 1,
   "nav_menu": {},
   "number_sections": true,
   "sideBar": true,
   "skip_h1_title": false,
   "title_cell": "Table of Contents",
   "title_sidebar": "Contents",
   "toc_cell": false,
   "toc_position": {
    "height": "calc(100% - 180px)",
    "left": "10px",
    "top": "150px",
    "width": "150.075px"
   },
   "toc_section_display": true,
   "toc_window_display": true
  }
 },
 "nbformat": 4,
 "nbformat_minor": 5
}
