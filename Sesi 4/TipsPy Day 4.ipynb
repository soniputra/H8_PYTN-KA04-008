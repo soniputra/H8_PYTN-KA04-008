{
 "cells": [
  {
   "cell_type": "markdown",
   "id": "dd85ad02",
   "metadata": {},
   "source": [
    "\n",
    "# Notes on Numpy Vector"
   ]
  },
  {
   "cell_type": "code",
   "execution_count": 1,
   "id": "120bf8b9",
   "metadata": {},
   "outputs": [],
   "source": [
    "import numpy as np\n",
    "a = np.random.rand(5)"
   ]
  },
  {
   "cell_type": "code",
   "execution_count": 2,
   "id": "edd6d7cb",
   "metadata": {},
   "outputs": [
    {
     "name": "stdout",
     "output_type": "stream",
     "text": [
      "[0.99845208 0.39922604 0.22282419 0.02298804 0.4627359 ]\n"
     ]
    }
   ],
   "source": [
    "print(a)"
   ]
  },
  {
   "cell_type": "code",
   "execution_count": 3,
   "id": "18e74a54",
   "metadata": {},
   "outputs": [
    {
     "data": {
      "text/plain": [
       "(5,)"
      ]
     },
     "execution_count": 3,
     "metadata": {},
     "output_type": "execute_result"
    }
   ],
   "source": [
    "a.shape # Rank 1 Array"
   ]
  },
  {
   "cell_type": "code",
   "execution_count": 4,
   "id": "8c83a80b",
   "metadata": {},
   "outputs": [
    {
     "name": "stdout",
     "output_type": "stream",
     "text": [
      "[0.99845208 0.39922604 0.22282419 0.02298804 0.4627359 ]\n"
     ]
    }
   ],
   "source": [
    "print(a.T)"
   ]
  },
  {
   "cell_type": "code",
   "execution_count": 5,
   "id": "531b6d06",
   "metadata": {},
   "outputs": [
    {
     "name": "stdout",
     "output_type": "stream",
     "text": [
      "1.4205915704605914\n"
     ]
    }
   ],
   "source": [
    "print(np.dot(a, a.T))"
   ]
  },
  {
   "cell_type": "code",
   "execution_count": 6,
   "id": "0a3a6f78",
   "metadata": {},
   "outputs": [],
   "source": [
    "# Column Vector\n",
    "a = np.random.rand(5, 1)"
   ]
  },
  {
   "cell_type": "code",
   "execution_count": 7,
   "id": "9474f65b",
   "metadata": {},
   "outputs": [
    {
     "name": "stdout",
     "output_type": "stream",
     "text": [
      "[[0.50070874]\n",
      " [0.57477748]\n",
      " [0.47935124]\n",
      " [0.27917577]\n",
      " [0.75929904]]\n"
     ]
    }
   ],
   "source": [
    "print(a)"
   ]
  },
  {
   "cell_type": "code",
   "execution_count": 8,
   "id": "d630fab9",
   "metadata": {},
   "outputs": [
    {
     "name": "stdout",
     "output_type": "stream",
     "text": [
      "[[0.50070874 0.57477748 0.47935124 0.27917577 0.75929904]]\n"
     ]
    }
   ],
   "source": [
    "# Menentukan Transpose (T)\n",
    "print(a.T)"
   ]
  },
  {
   "cell_type": "code",
   "execution_count": 9,
   "id": "e339d094",
   "metadata": {},
   "outputs": [
    {
     "name": "stdout",
     "output_type": "stream",
     "text": [
      "[[0.25070924 0.28779611 0.24001536 0.13978575 0.38018767]\n",
      " [0.28779611 0.33036915 0.2755203  0.16046395 0.43642799]\n",
      " [0.24001536 0.2755203  0.22977761 0.13382325 0.36397094]\n",
      " [0.13978575 0.16046395 0.13382325 0.07793911 0.2119779 ]\n",
      " [0.38018767 0.43642799 0.36397094 0.2119779  0.57653504]]\n"
     ]
    }
   ],
   "source": [
    "print(np.dot(a, a.T))"
   ]
  },
  {
   "cell_type": "code",
   "execution_count": 10,
   "id": "fdc94629",
   "metadata": {},
   "outputs": [
    {
     "name": "stdout",
     "output_type": "stream",
     "text": [
      "[[0.96497398 0.15826423 0.55490673 0.22235132 0.02006083]]\n"
     ]
    }
   ],
   "source": [
    "# Begitu pula dengan row Vector\n",
    "\n",
    "# Row Vector\n",
    "a = np.random.rand(1, 5)\n",
    "\n",
    "print(a)"
   ]
  },
  {
   "cell_type": "code",
   "execution_count": null,
   "id": "94098b4a",
   "metadata": {},
   "outputs": [],
   "source": []
  }
 ],
 "metadata": {
  "kernelspec": {
   "display_name": "Python 3 (ipykernel)",
   "language": "python",
   "name": "python3"
  },
  "language_info": {
   "codemirror_mode": {
    "name": "ipython",
    "version": 3
   },
   "file_extension": ".py",
   "mimetype": "text/x-python",
   "name": "python",
   "nbconvert_exporter": "python",
   "pygments_lexer": "ipython3",
   "version": "3.8.12"
  },
  "toc": {
   "base_numbering": 1,
   "nav_menu": {},
   "number_sections": true,
   "sideBar": true,
   "skip_h1_title": false,
   "title_cell": "Table of Contents",
   "title_sidebar": "Contents",
   "toc_cell": false,
   "toc_position": {},
   "toc_section_display": true,
   "toc_window_display": false
  }
 },
 "nbformat": 4,
 "nbformat_minor": 5
}
