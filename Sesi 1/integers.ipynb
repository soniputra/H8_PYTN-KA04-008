{
 "cells": [
  {
   "cell_type": "markdown",
   "id": "5f1186d2",
   "metadata": {},
   "source": [
    "<b> Chapter 1 </b>"
   ]
  },
  {
   "cell_type": "markdown",
   "id": "b18f2589",
   "metadata": {},
   "source": [
    "<hr>"
   ]
  },
  {
   "cell_type": "code",
   "execution_count": 1,
   "id": "cfae0668",
   "metadata": {},
   "outputs": [
    {
     "name": "stdout",
     "output_type": "stream",
     "text": [
      "123123123123123123123123123123123123123123123124\n"
     ]
    }
   ],
   "source": [
    "print(123123123123123123123123123123123123123123123123 + 1)"
   ]
  },
  {
   "cell_type": "markdown",
   "id": "6870570d",
   "metadata": {},
   "source": [
    "<h5> Hasil dari print(123123123123123123123123123123123123123123123123 + 1) adalah </h5>"
   ]
  },
  {
   "cell_type": "markdown",
   "id": "0215773c",
   "metadata": {},
   "source": [
    "<h6> 123123123123123123123123123123123123123123123124 </h6>"
   ]
  },
  {
   "cell_type": "markdown",
   "id": "5fffee3e",
   "metadata": {},
   "source": [
    "<hr>"
   ]
  },
  {
   "cell_type": "markdown",
   "id": "27134b86",
   "metadata": {},
   "source": [
    "<b> Chapter 2 </b>"
   ]
  },
  {
   "cell_type": "markdown",
   "id": "abce0fd1",
   "metadata": {},
   "source": [
    "<hr>"
   ]
  },
  {
   "cell_type": "markdown",
   "id": "d4b1f40f",
   "metadata": {},
   "source": [
    "<b><i>Python interprets a sequence of decimal digits without any prefix to be a decimal number :</i></b>\n",
    "</br>\n",
    "<b><i>Python menginterpretasikan urutan angka desimal tanpa awalan menjadi angka desimal:</i></b>"
   ]
  },
  {
   "cell_type": "code",
   "execution_count": 3,
   "id": "93195ab7",
   "metadata": {},
   "outputs": [
    {
     "name": "stdout",
     "output_type": "stream",
     "text": [
      "10\n",
      "<class 'int'>\n"
     ]
    }
   ],
   "source": [
    "print(10)\n",
    "print(type(10))"
   ]
  },
  {
   "cell_type": "code",
   "execution_count": null,
   "id": "79ddc202",
   "metadata": {},
   "outputs": [],
   "source": []
  }
 ],
 "metadata": {
  "kernelspec": {
   "display_name": "Python 3",
   "language": "python",
   "name": "python3"
  },
  "language_info": {
   "codemirror_mode": {
    "name": "ipython",
    "version": 3
   },
   "file_extension": ".py",
   "mimetype": "text/x-python",
   "name": "python",
   "nbconvert_exporter": "python",
   "pygments_lexer": "ipython3",
   "version": "3.8.8"
  }
 },
 "nbformat": 4,
 "nbformat_minor": 5
}
