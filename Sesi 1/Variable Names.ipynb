{
 "cells": [
  {
   "cell_type": "markdown",
   "id": "e33500bb",
   "metadata": {},
   "source": [
    "<b> Chpater 1 </b>\n",
    "<hr>\n",
    "\n",
    "<blockquote style=\"text-align: justify\">\n",
    "Secara resmi, nama variabel di Python bisa berapa pun panjangnya dan bisa terdiri dari huruf besar dan huruf kecil (A-Z, a-z), digit (0-9), dan karakter garis bawah (_). Batasan tambahan adalah bahwa, meskipun nama variabel dapat berisi angka, karakter pertama dari nama variabel tidak boleh berupa digit.\n",
    "</blockquote>"
   ]
  },
  {
   "cell_type": "code",
   "execution_count": 1,
   "id": "6bbc21ce",
   "metadata": {},
   "outputs": [
    {
     "name": "stdout",
     "output_type": "stream",
     "text": [
      "Hacktiv8 54 True\n"
     ]
    }
   ],
   "source": [
    "name = \"Hacktiv8\"\n",
    "Age = 54\n",
    "has_laptops = True\n",
    "print(name, Age, has_laptops)"
   ]
  },
  {
   "cell_type": "markdown",
   "id": "db5e496f",
   "metadata": {},
   "source": [
    "<b> Chapter 2 </b>\n",
    "<hr>\n",
    "<blockquote>\n",
    "Nama Variable tidak boleh dimulai dengan angka:\n",
    "</blockquote>"
   ]
  },
  {
   "cell_type": "code",
   "execution_count": 2,
   "id": "6624338b",
   "metadata": {},
   "outputs": [
    {
     "ename": "SyntaxError",
     "evalue": "invalid decimal literal (<ipython-input-2-737512de54da>, line 1)",
     "output_type": "error",
     "traceback": [
      "\u001b[1;36m  File \u001b[1;32m\"<ipython-input-2-737512de54da>\"\u001b[1;36m, line \u001b[1;32m1\u001b[0m\n\u001b[1;33m    9_kepala_naga = True\u001b[0m\n\u001b[1;37m     ^\u001b[0m\n\u001b[1;31mSyntaxError\u001b[0m\u001b[1;31m:\u001b[0m invalid decimal literal\n"
     ]
    }
   ],
   "source": [
    "9_kepala_naga = True"
   ]
  },
  {
   "cell_type": "markdown",
   "id": "6f184f58",
   "metadata": {},
   "source": [
    "<b> Chapter 3 </b>\n",
    "<hr>\n",
    "<blockquote>\n",
    "Perhatikan bahwa case disini sangat berperan. Huruf kecil dan huruf besar tidak sama. Penggunaan karakter garis bawah juga penting. Masing-masing dari berikut ini mendefinisikan variabel yang berbeda:\n",
    "</blockquote>"
   ]
  },
  {
   "cell_type": "code",
   "execution_count": 4,
   "id": "ad31d36b",
   "metadata": {},
   "outputs": [
    {
     "name": "stdout",
     "output_type": "stream",
     "text": [
      "1 2 3 4 5 6 7 8\n"
     ]
    }
   ],
   "source": [
    "age = 1\n",
    "Age = 2\n",
    "aGe = 3\n",
    "AGE = 4\n",
    "a_g_3 = 5\n",
    "_age = 6\n",
    "age_ = 7\n",
    "_AGE_ = 8\n",
    "print(age, Age, aGe, AGE, a_g_3, _age, age_, _AGE_)"
   ]
  },
  {
   "cell_type": "markdown",
   "id": "5c441877",
   "metadata": {},
   "source": [
    "<hr>\n",
    "<b>Kesimpulan</b>\n",
    "<hr>\n",
    "<blockquote style=\"text-align:justify\">\n",
    "Di sisi lain, belum tentu semuanya dapat terbaca. Penamaan variable adalah masalah preferensi pribadi, tetapi kebanyakan orang akan menganggap dua contoh pertama, di mana semua huruf disatukan, lebih sulit untuk dibaca, terutama yang menggunakan huruf kapital semua. Metode yang paling umum digunakan untuk membuat nama variabel multi-kata adalah tiga contoh dibawah ini:\n",
    "    <br>\n",
    "    <ul>\n",
    "        <li>\n",
    "        Camel Case: Second and subsequent words are capitalized, to make word boundaries easier to see. (Presumably, it struck         someone at some point that the capital letters strewn throughout the variable name vaguely resemble camel humps.)\n",
    "        <br>\n",
    "        Example: numberOfCollegeGraduates\n",
    "        </li>\n",
    "        <li>\n",
    "        Pascal Case: Identical to Camel Case, except the first word is also capitalized.\n",
    "        <br>\n",
    "        Example: NumberOfCollegeGraduates\n",
    "        </li>\n",
    "        <li>\n",
    "        Snake Case: Words are separated by underscores.\n",
    "        <br>\n",
    "        Example: number_of_college_graduates\n",
    "        </li>\n",
    "    </ul>\n",
    "<br>\n",
    "    Gunakan salah satu dari ketiganya yang paling menarik secara visual bagi kalian. Pilih satu dan gunakan secara konsisten.\n",
    "</blockquote>"
   ]
  },
  {
   "cell_type": "code",
   "execution_count": null,
   "id": "9f7d1841",
   "metadata": {},
   "outputs": [],
   "source": []
  }
 ],
 "metadata": {
  "kernelspec": {
   "display_name": "Python 3",
   "language": "python",
   "name": "python3"
  },
  "language_info": {
   "codemirror_mode": {
    "name": "ipython",
    "version": 3
   },
   "file_extension": ".py",
   "mimetype": "text/x-python",
   "name": "python",
   "nbconvert_exporter": "python",
   "pygments_lexer": "ipython3",
   "version": "3.8.8"
  }
 },
 "nbformat": 4,
 "nbformat_minor": 5
}
