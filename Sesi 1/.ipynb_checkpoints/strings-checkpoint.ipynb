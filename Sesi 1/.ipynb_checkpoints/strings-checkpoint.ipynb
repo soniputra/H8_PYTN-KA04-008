{
 "cells": [
  {
   "cell_type": "markdown",
   "id": "8b165109",
   "metadata": {},
   "source": [
    "<b> Chapter 1 </b>\n",
    "<hr>"
   ]
  },
  {
   "cell_type": "code",
   "execution_count": 1,
   "id": "656b6351",
   "metadata": {},
   "outputs": [
    {
     "name": "stdout",
     "output_type": "stream",
     "text": [
      "Hacktiv8\n",
      "<class 'str'>\n"
     ]
    }
   ],
   "source": [
    "print(\"Hacktiv8\")\n",
    "print(type(\"Hacktiv8\"))"
   ]
  },
  {
   "cell_type": "markdown",
   "id": "c0aaa345",
   "metadata": {},
   "source": [
    "<b> Catatan </b>\n",
    "<br>\n",
    "<br>\n",
    "<blockquote>String adalah urutan data karakter. Jenis string dalam Python disebut str.</blockquote>\n",
    "<br>\n",
    "<br>\n",
    "<blockquote>String literals dapat dipisahkan menggunakan tanda kutip tunggal atau ganda. Semua karakter antara pembatas pembuka dan pembatas penutup yang 'match' adalah bagian dari string:</blockquote>\n",
    "<hr>"
   ]
  },
  {
   "cell_type": "markdown",
   "id": "71d79653",
   "metadata": {},
   "source": [
    "<b> Chapter 2 </b>"
   ]
  },
  {
   "cell_type": "markdown",
   "id": "3b39415e",
   "metadata": {},
   "source": [
    "<hr>"
   ]
  },
  {
   "cell_type": "code",
   "execution_count": 2,
   "id": "fdb8802d",
   "metadata": {},
   "outputs": [
    {
     "name": "stdout",
     "output_type": "stream",
     "text": [
      "\n"
     ]
    }
   ],
   "source": [
    "print('')"
   ]
  },
  {
   "cell_type": "markdown",
   "id": "1aac93b8",
   "metadata": {},
   "source": [
    "<b> Catatan </b>\n",
    "<br>\n",
    "<blockquote>Sebuah string dalam Python dapat berisi karakter sebanyak yang kalian inginkan. Satu-satunya batasan adalah resource memori kalian. String juga boleh kosong:</blockquote>\n",
    "<br>\n",
    "<i>Seperti contoh dibawah</i>\n",
    "<hr>"
   ]
  },
  {
   "cell_type": "code",
   "execution_count": 3,
   "id": "c23a0d09",
   "metadata": {},
   "outputs": [
    {
     "name": "stdout",
     "output_type": "stream",
     "text": [
      "Keterangan 1\n",
      "This string contains a single quote (') character.\n",
      " \n",
      "Keterangan 2\n",
      "This string contains a double quote (\") character.\n",
      " \n"
     ]
    }
   ],
   "source": [
    "print(\"Keterangan 1\")\n",
    "print(\"This string contains a single quote (') character.\")\n",
    "print(\" \")\n",
    "\n",
    "print(\"Keterangan 2\")\n",
    "print('This string contains a double quote (\") character.')\n",
    "print(\" \")"
   ]
  },
  {
   "cell_type": "markdown",
   "id": "b25d8d2a",
   "metadata": {},
   "source": [
    "<b>Kesimpulan</b>\n",
    "<br>\n",
    "<blockquote>\n",
    "Dari 2 Keterangan tersebut dapat dijelaskan bahwa penggunaan <b>string</b> bisa menggunakan:\n",
    "<br>\n",
    "<ol>\n",
    "    <li>string bisa diprint hanya menggunakan <i>single quote</i> (kutip satu)</li>\n",
    "    <li>string bisa diprint hanya menggunakan <i>single quote</i> (kutip dua)</li>\n",
    "</ol>\n",
    "Namun dari 2 keterangan tersebut mempunyai batasan apabila memori penggunaan terbatas maka, keterangan ke 2 adalah pilihan yang terbaik.\n",
    "<br>\n",
    "Dengan tujuan agar lebih meringankan beban file ketika melakukan <i>deploy</i>\n",
    "</blockquote>"
   ]
  },
  {
   "cell_type": "code",
   "execution_count": null,
   "id": "be6a0773",
   "metadata": {},
   "outputs": [],
   "source": []
  }
 ],
 "metadata": {
  "kernelspec": {
   "display_name": "Python 3",
   "language": "python",
   "name": "python3"
  },
  "language_info": {
   "codemirror_mode": {
    "name": "ipython",
    "version": 3
   },
   "file_extension": ".py",
   "mimetype": "text/x-python",
   "name": "python",
   "nbconvert_exporter": "python",
   "pygments_lexer": "ipython3",
   "version": "3.8.8"
  }
 },
 "nbformat": 4,
 "nbformat_minor": 5
}
