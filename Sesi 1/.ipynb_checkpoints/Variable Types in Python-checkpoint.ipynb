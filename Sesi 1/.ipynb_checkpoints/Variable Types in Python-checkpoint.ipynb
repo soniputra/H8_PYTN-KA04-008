{
 "cells": [
  {
   "cell_type": "markdown",
   "id": "d5b968db",
   "metadata": {},
   "source": [
    "<b>Introduction</b>\n",
    "<br>\n",
    "<blockquote style=\"text-align:justify\">\n",
    "Dalam banyak bahasa pemrograman, variabel diketik secara statis. Artinya, variabel yang dideklarasikan diawal memiliki tipe data tertentu, dan nilai apa pun yang ditetapkan pada variable tersebut selama masa pakainya harus selalu memiliki tipe itu.\n",
    "<br>\n",
    "<br>\n",
    "Variabel dalam Python berbeda dengan batasan ini. Di Python, variabel dapat diberi value dari satu jenis dan kemudian diberi value dari jenis yang berbeda:\n",
    "</blockquote>"
   ]
  },
  {
   "cell_type": "code",
   "execution_count": 1,
   "id": "deea838b",
   "metadata": {},
   "outputs": [
    {
     "name": "stdout",
     "output_type": "stream",
     "text": [
      "23.5\n",
      "Now I'm a string\n"
     ]
    }
   ],
   "source": [
    "var = 23.5\n",
    "print(var)\n",
    "\n",
    "var = \"Now I'm a string\"\n",
    "print(var)"
   ]
  },
  {
   "cell_type": "code",
   "execution_count": null,
   "id": "778343c1",
   "metadata": {},
   "outputs": [],
   "source": []
  }
 ],
 "metadata": {
  "kernelspec": {
   "display_name": "Python 3",
   "language": "python",
   "name": "python3"
  },
  "language_info": {
   "codemirror_mode": {
    "name": "ipython",
    "version": 3
   },
   "file_extension": ".py",
   "mimetype": "text/x-python",
   "name": "python",
   "nbconvert_exporter": "python",
   "pygments_lexer": "ipython3",
   "version": "3.8.8"
  }
 },
 "nbformat": 4,
 "nbformat_minor": 5
}
