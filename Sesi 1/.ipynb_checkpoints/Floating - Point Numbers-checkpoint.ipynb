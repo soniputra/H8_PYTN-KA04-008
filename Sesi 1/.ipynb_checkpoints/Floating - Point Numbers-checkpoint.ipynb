{
 "cells": [
  {
   "cell_type": "code",
   "execution_count": 1,
   "id": "c3244ffc",
   "metadata": {},
   "outputs": [
    {
     "name": "stdout",
     "output_type": "stream",
     "text": [
      "4.2\n",
      "<class 'float'>\n",
      "######\n",
      "\n",
      "4.0\n",
      "######\n",
      "\n",
      "0.2\n",
      "######\n",
      "\n",
      "4000000.0\n",
      "######\n",
      "\n",
      "0.00042\n",
      "######\n",
      "\n"
     ]
    }
   ],
   "source": [
    "print(4.2)\n",
    "print(type(4.2))\n",
    "print(\"######\")\n",
    "print(\"\")\n",
    "\n",
    "print(4.)\n",
    "print(\"######\")\n",
    "print(\"\")\n",
    "\n",
    "print(.2)\n",
    "print(\"######\")\n",
    "print(\"\")\n",
    "\n",
    "print(.4e7)\n",
    "print(\"######\")\n",
    "print(\"\")\n",
    "\n",
    "print(4.2e-4)\n",
    "print(\"######\")\n",
    "print(\"\")"
   ]
  },
  {
   "cell_type": "code",
   "execution_count": null,
   "id": "0ba7249b",
   "metadata": {},
   "outputs": [],
   "source": []
  }
 ],
 "metadata": {
  "kernelspec": {
   "display_name": "Python 3",
   "language": "python",
   "name": "python3"
  },
  "language_info": {
   "codemirror_mode": {
    "name": "ipython",
    "version": 3
   },
   "file_extension": ".py",
   "mimetype": "text/x-python",
   "name": "python",
   "nbconvert_exporter": "python",
   "pygments_lexer": "ipython3",
   "version": "3.8.8"
  }
 },
 "nbformat": 4,
 "nbformat_minor": 5
}
