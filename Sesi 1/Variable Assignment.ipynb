{
 "cells": [
  {
   "cell_type": "markdown",
   "id": "5e9bdc21",
   "metadata": {},
   "source": [
    "<b>Chapter 1</b>\n",
    "<hr>"
   ]
  },
  {
   "cell_type": "markdown",
   "id": "387e9ded",
   "metadata": {},
   "source": [
    "<div style=\"text-align:justify\">Bayangkan variabel sebagai nama yang dilampirkan ke objek tertentu. Di Python, variabel tidak perlu dideklarasikan atau didefinisikan sebelumnya, seperti halnya di banyak bahasa pemrograman lainnya. Untuk membuat variabel, kaliancukup menetapkan nilai dan bsia digunakan. Variable assignment dilakukan dengan satu tanda sama dengan (=):\n",
    "</div>\n",
    "<hr>"
   ]
  },
  {
   "cell_type": "code",
   "execution_count": 5,
   "id": "2ac1c81d",
   "metadata": {
    "scrolled": true
   },
   "outputs": [
    {
     "name": "stdout",
     "output_type": "stream",
     "text": [
      "300\n"
     ]
    },
    {
     "data": {
      "text/plain": [
       "300"
      ]
     },
     "execution_count": 5,
     "metadata": {},
     "output_type": "execute_result"
    }
   ],
   "source": [
    "n = 300\n",
    "print(n)\n",
    "300\n",
    "n\n",
    "300"
   ]
  },
  {
   "cell_type": "markdown",
   "id": "8d1438c2",
   "metadata": {},
   "source": [
    "<b>Chapter 2</b>\n",
    "<hr>"
   ]
  },
  {
   "cell_type": "markdown",
   "id": "6e2934a9",
   "metadata": {},
   "source": [
    "<h3> Catatan </h3>\n",
    "<br>\n",
    "<b>English</b>\n",
    "<br>\n",
    "<blackquote>\n",
    "Later, if you change the value of n and use it again, the new value will be substituted instead:\n",
    "</blackquote>\n",
    "<br>\n",
    "<b>Indonesia</b>\n",
    "<br>\n",
    "<blackquote>\n",
    "Nanti, jika Anda mengubah nilai n dan menggunakannya lagi, nilai yang baru akan diganti sebagai gantinya:\n",
    "</blackquote>"
   ]
  },
  {
   "cell_type": "code",
   "execution_count": 9,
   "id": "6f50c7a0",
   "metadata": {},
   "outputs": [
    {
     "name": "stdout",
     "output_type": "stream",
     "text": [
      "1000\n"
     ]
    },
    {
     "data": {
      "text/plain": [
       "1000"
      ]
     },
     "execution_count": 9,
     "metadata": {},
     "output_type": "execute_result"
    }
   ],
   "source": [
    "n = 1000\n",
    "print(n)\n",
    "\n",
    "n"
   ]
  },
  {
   "cell_type": "markdown",
   "id": "a59ede7d",
   "metadata": {},
   "source": [
    "Atau bisa juga seperti ini"
   ]
  },
  {
   "cell_type": "code",
   "execution_count": 12,
   "id": "699fa0ea",
   "metadata": {},
   "outputs": [
    {
     "name": "stdout",
     "output_type": "stream",
     "text": [
      "# Maka Hasilnya adalah seperti ini\n",
      "300 300 300\n"
     ]
    }
   ],
   "source": [
    "\n",
    "print(\"# Maka Hasilnya adalah seperti ini\")\n",
    "a = b = c = 300\n",
    "print(a,b,c)\n"
   ]
  },
  {
   "cell_type": "code",
   "execution_count": null,
   "id": "02e5585c",
   "metadata": {},
   "outputs": [],
   "source": []
  }
 ],
 "metadata": {
  "kernelspec": {
   "display_name": "Python 3",
   "language": "python",
   "name": "python3"
  },
  "language_info": {
   "codemirror_mode": {
    "name": "ipython",
    "version": 3
   },
   "file_extension": ".py",
   "mimetype": "text/x-python",
   "name": "python",
   "nbconvert_exporter": "python",
   "pygments_lexer": "ipython3",
   "version": "3.8.8"
  }
 },
 "nbformat": 4,
 "nbformat_minor": 5
}
