{
 "cells": [
  {
   "cell_type": "markdown",
   "id": "323803e3",
   "metadata": {},
   "source": [
    "## Regression"
   ]
  },
  {
   "cell_type": "markdown",
   "id": "894b2045",
   "metadata": {},
   "source": [
    "### What is Regression?"
   ]
  },
  {
   "cell_type": "markdown",
   "id": "a47698a6",
   "metadata": {},
   "source": [
    "<p>Regression adalah bentuk lain dari supervised learning. Perbedaan antara classification dan regression adalah bahwa regression <strong>menghasilkan angka</strong> daripada kelas. Oleh karena itu, regression berguna saat memprediksi masalah berbasis angka seperti harga pasar saham, suhu untuk hari tertentu, atau probabilitas suatu peristiwa.<br><br>Misalnya, kita dapat mengamati beberapa karyawan dari beberapa perusahaan dan mencoba memahami bagaimana gaji mereka bergantung pada fitur, seperti pengalaman, tingkat pendidikan, peran, kota tempat mereka bekerja, dan sebagainya.<br><br>Contoh diatas adalah masalah regresi dimana data yang terkait dengan setiap karyawan merupakan satu observasi. Asumsinya, pengalaman, pendidikan, peran, dan kota adalah ciri-ciri tersendiri, sedangkan gaji bergantung padanya.</p>\n",
    "<p>Demikian pula, kita dapat mencoba membangun mathematical dependence/ketergantungan matematis dari harga rumah dengan wilayah, jumlah kamar tidur, jarak ke pusat kota, dan sebagainya.<br><br>Secara umum, dalam regression analysis, kita biasanya mempertimbangkan beberapa fenomena yang menarik dan memiliki sejumlah pengamatan. Setiap observasi memiliki dua atau lebih fitur. Mengikuti asumsi bahwa (setidaknya) salah satu fitur bergantung pada yang lain, kita mencoba membangun hubungan di antara fitur tersebut.<br><br>Dengan kata lain, <strong>kita perlu menemukan fungsi yang memetakan beberapa fitur atau variabel ke fitur lain dengan cukup baik</strong>.<br><br>Fitur dependen/dependent features disebut <strong>variabel dependen/</strong><strong>dependent variables</strong>, <strong>output</strong>, atau <strong>responses</strong>.<br><br>Fitur independen disebut <strong>variabel independen/</strong><strong>independent variables</strong>, <strong>input</strong>, atau <strong>predictors</strong>.<br><br>Masalah regresi biasanya memiliki satu variabel dependen yang kontinu dan tidak terbatas. Namun, masukan dapat berupa data kontinu, diskrit, atau bahkan kategorikal seperti jenis kelamin, kebangsaan, merek, dan sebagainya.<br><br>Biasanya kita melambangkan output dengan 𝑦 dan input dengan 𝑥. Jika ada dua atau lebih variabel independen, mereka dapat direpresentasikan sebagai vektor 𝐱 = (𝑥₁,…, 𝑥ᵣ), di mana 𝑟 adalah jumlah input.</p>"
   ]
  },
  {
   "cell_type": "markdown",
   "id": "da9dd164",
   "metadata": {},
   "source": [
    "### When Do You Need Regression?"
   ]
  },
  {
   "cell_type": "markdown",
   "id": "98f6e57c",
   "metadata": {},
   "source": [
    "Biasanya, kita memerlukan regresi untuk menjawab apakah dan bagaimana beberapa fenomena memengaruhi yang lain atau bagaimana terkaitnya variabel yang ada. Misalnya, kita dapat menggunakannya untuk menentukan apakah dan sejauh mana pengalaman atau gender memengaruhi gaji.\n",
    "\n",
    "Regresi juga berguna saat kita ingin meramalkan respons menggunakan kumpulan prediktor baru. Misalnya, kita dapat mencoba memprediksi konsumsi listrik rumah tangga untuk satu jam ke depan dengan melihat suhu luar ruangan, waktu, dan jumlah penduduk dalam rumah tersebut.\n",
    "\n",
    "Regresi digunakan di berbagai bidang: ekonomi, ilmu komputer, ilmu sosial, dan sebagainya. Kepentingannya meningkat setiap hari dengan ketersediaan data dalam jumlah besar dan kesadaran yang meningkat tentang nilai praktis data.\n",
    "\n",
    "**Jenis Jenis Regresi :** \n",
    "  - Regresi linear sederahana (simple regression) \n",
    "  - Regresi multilinear (multiple regression) \n",
    "  - Regresi plynomial (polynomial regresion) \n",
    "  - Support vector regresion \n",
    "  - Decision tree regresion \n",
    "  - Random forest regresion"
   ]
  },
  {
   "cell_type": "markdown",
   "id": "4fb3345f",
   "metadata": {},
   "source": [
    "### Linear Regression"
   ]
  },
  {
   "cell_type": "markdown",
   "id": "493761f4",
   "metadata": {},
   "source": [
    "Linear regression mungkin salah satu teknik regresi yang paling penting dan banyak digunakan. Ini adalah salah satu metode regresi yang paling sederhana. Salah satu keuntungan utamanya adalah kemudahan interpretasi hasil."
   ]
  },
  {
   "cell_type": "markdown",
   "id": "c06c9d30",
   "metadata": {},
   "source": [
    "#### Problem Formulation\n",
    "\n",
    "Saat menerapkan linear regression dari beberaoa variabel dependen 𝑦 pada himpunan variabel independen 𝐱 = (𝑥₁,…, 𝑥ᵣ), di mana 𝑟 adalah jumlah prediktor, kita mengasumsikan linear relationship antara 𝑦 dan 𝐱: 𝑦 = 𝛽₀ + 𝛽₁𝑥₁ + 𝛽₁𝑥₁ + 𝛽ᵣ𝑥ᵣ + 𝜀. Persamaan ini adalah persamaan regresi. 𝛽₀, 𝛽₁,…, 𝛽ᵣ adalah koefisien regresi, dan 𝜀 adalah random error.\n",
    "\n",
    "Linear regression menghitung estimators dari koefisien regresi atau predicted weights, dilambangkan dengan 𝑏₀, 𝑏₁,…, 𝑏ᵣ. Koefisien regresi mendefinisikan estimated regression function 𝑓 (𝐱) = 𝑏₀ + 𝑏₁𝑥₁ + ⋯ + 𝑏ᵣ𝑥ᵣ. Fungsi ini harus menangkap ketergantungan antara input dan output dengan cukup baik.\n",
    "\n",
    "Estimated atau predicted response, 𝑓 (𝐱ᵢ), untuk setiap pengamatan 𝑖 = 1,…, 𝑛, harus sedekat mungkin dengan actual response yang sesuai 𝑦ᵢ. Perbedaan 𝑦ᵢ - 𝑓 (𝐱ᵢ) untuk semua pengamatan 𝑖 = 1,…, 𝑛, disebut residuals. Regresi adalah tentang menentukan best predicted weights, yaitu bobot yang sesuai dengan residuals terkecil.\n",
    "\n",
    "Untuk mendapatkan bobot terbaik, biasanya kita meminimalkan sum of squared residuals (SSR) untuk semua pengamatan 𝑖 = 1,…, 𝑛: SSR = Σᵢ (𝑦ᵢ - 𝑓 (𝐱ᵢ)) ². Pendekatan ini disebut method of ordinary least squares."
   ]
  },
  {
   "cell_type": "markdown",
   "id": "ed4f6c60",
   "metadata": {},
   "source": [
    "### Regression Performance"
   ]
  },
  {
   "cell_type": "markdown",
   "id": "a63adf38",
   "metadata": {},
   "source": [
    "Variasi respon aktual 𝑦ᵢ, 𝑖 = 1,…, 𝑛, terjadi sebagian karena ketergantungan pada prediktor 𝐱ᵢ. Namun, ada juga varian tambahan yang melekat pada output.\n",
    "\n",
    "Coefficient of determination, dilambangkan sebagai 𝑅², memberi tahu kita berapa banyak variasi dalam 𝑦 yang dapat dijelaskan oleh ketergantungan pada 𝐱 menggunakan model regresi tertentu. Lebih besar 𝑅² menunjukkan kesesuaian yang lebih baik dan berarti bahwa model dapat menjelaskan variasi keluaran dengan masukan yang berbeda dengan lebih baik.\n",
    "\n",
    "Nilai 𝑅² = 1 sesuai dengan SSR = 0, yaitu perfect fit karena nilai prediksi dan respons aktual saling cocok satu sama lain.\n",
    "\n"
   ]
  },
  {
   "cell_type": "markdown",
   "id": "b790c740",
   "metadata": {},
   "source": [
    "### Simple Linear Regression\n",
    "\n",
    "Simple atau single-variate linear regression adalah kasus regresi linier yang paling sederhana dengan variabel independen tunggal, 𝐱 = 𝑥.\n",
    "\n",
    "Gambar berikut menggambarkan regresi linier sederhana:\n",
    "<img src=\"https://i.ibb.co/bNzsy8b/simple-linear-grafik.png\" width=\"550\" align=\"center\">\n",
    "\n",
    "Saat menerapkan simple linear regression, kita biasanya mulai dengan kumpulan pasangan input-output (𝑥-𝑦) tertentu (lingkaran hijau). Pasangan ini adalah observasi kita. Misalnya, pengamatan paling kiri (lingkaran hijau) memiliki masukan 𝑥 = 5 dan keluaran aktual (tanggapan) 𝑦 = 5. Yang berikutnya memiliki 𝑥 = 15 dan 𝑦 = 20, dan seterusnya.\n",
    "\n",
    "Estimated regression function (garis hitam) memiliki persamaan 𝑓 (𝑥) = 𝑏₀ + 𝑏₁𝑥. Tujuan kita adalah menghitung nilai optimal dari bobot prediksi 𝑏₀ dan 𝑏₁ yang meminimalkan SSR (Sum of Squares Regression) dan menentukan estimated regression function. Nilai 𝑏₀, juga disebut intercept, menunjukkan titik di mana garis regresi yang diperkirakan melintasi sumbu 𝑦. Ini adalah nilai perkiraan respon 𝑓 (𝑥) untuk 𝑥 = 0. Nilai 𝑏₁ menentukan kemiringan/slope garis regresi yang diperkirakan.\n",
    "\n",
    "Predicted responses (kotak merah) adalah titik-titik pada regression line yang sesuai dengan nilai input. Misalnya, untuk input 𝑥 = 5, respons yang diprediksi adalah 𝑓 (5) = 8,33 (diwakili dengan kotak merah paling kiri).\n",
    "\n",
    "Residuals (garis abu-abu putus-putus vertikal) dapat dihitung sebagai 𝑦ᵢ - 𝑓 (𝐱ᵢ) = 𝑦ᵢ - 𝑏₀ - 𝑏₁𝑥ᵢ untuk 𝑖 = 1,…, 𝑛. Itu adalah jarak antara lingkaran hijau dan kotak merah. Saat kita menerapkan regresi linier, kita sebenarnya mencoba meminimalkan jarak ini dan membuat kotak merah sedekat mungkin dengan lingkaran hijau yang telah ditentukan sebelumnya."
   ]
  },
  {
   "cell_type": "markdown",
   "id": "9729ecee",
   "metadata": {},
   "source": [
    "### Multiple Linear Regression\n",
    "\n",
    "Multiple atau multivariate linear regression adalah kasus regresi linier dengan dua atau lebih independent variables.\n",
    "\n",
    "Jika hanya ada dua independent variables, estimated regression function-nya adalah 𝑓 (𝑥₁, 𝑥₂) = 𝑏₀ + 𝑏₁𝑥₁ + 𝑏₂𝑥₂. Ini mewakili bidang regresi dalam ruang tiga dimensi. Tujuan dari regresi adalah untuk menentukan nilai bobot 𝑏₀, 𝑏₁, dan 𝑏₂ sedemikian rupa sehingga bidang ini sedekat mungkin dengan respons aktual dan menghasilkan SSR minimal.\n",
    "\n",
    "Kasus lebih dari dua independent variables adalah serupa, tetapi lebih umum. Estimated regression function adalah 𝑓 (𝑥₁,…, 𝑥ᵣ) = 𝑏₀ + 𝑏₁𝑥₁ + ⋯ + 𝑏ᵣ𝑥ᵣ, dan ada 𝑟 + 1 bobot yang harus ditentukan jika jumlah masukan adalah 𝑟."
   ]
  },
  {
   "cell_type": "markdown",
   "id": "fee76484",
   "metadata": {},
   "source": [
    "### Polynomial Regression\n",
    "\n",
    "Kita dapat menganggap polynomial regression sebagai kasus umum linear regression. Kita mengasumsikan polynomial dependence antara output dan inputs , dan menghasilkan, polynomial estimated regression function.\n",
    "\n",
    "Dengan kata lain, selain istilah linier seperti 𝑏₁𝑥₁, fungsi regresi kita 𝑓 dapat menyertakan istilah non-linier seperti 𝑏₂𝑥₁², 𝑏₃𝑥₁³, atau bahkan 𝑏₄𝑥₁𝑥₂, 𝑏₅𝑥₁²𝑥₂, dan seterusnya.\n",
    "\n",
    "Contoh paling sederhana dari polynomial regression memiliki satu independent variable, dan estimated regression function adalah polynomial of degree 2: 𝑓 (𝑥) = 𝑏₀ + 𝑏₁𝑥 + 𝑏₂𝑥². Sekarang, ingatlah bahwa kita ingin menghitung 𝑏₀, 𝑏₁, dan 𝑏₂, yang meminimalkan SSR.\n",
    "\n",
    "Dengan mengingat hal ini, bandingkan regression function sebelumnya dengan fungsi 𝑓 (𝑥₁, 𝑥₂) = 𝑏₀ + 𝑏₁𝑥₁ + 𝑏₂𝑥₂ yang digunakan untuk linear regression. Mereka terlihat sangat mirip dan keduanya merupakan linear functions of the unknowns 𝑏₀, 𝑏₁, dan 𝑏₂. Inilah mengapa kita dapat menyelesaikan polynomial regression problem sebagai linier problem dengan istilah 𝑥² dianggap sebagai input variable.\n",
    "\n",
    "Dalam kasus dua variabel dan polynomial of degree 2, regression function memiliki bentuk ini: 𝑓 (𝑥₁, 𝑥₂) = 𝑏₀ + 𝑏₁𝑥₁ + 𝑏₂𝑥₂ + 𝑏₃𝑥₁² + 𝑏₄𝑥₁𝑥₂ + 𝑏₅𝑥₂². Prosedur penyelesaian masalah identik dengan kasus sebelumnya. Kita menerapkan regresi linier untuk lima masukan: 𝑥₁, 𝑥₂, 𝑥₁², 𝑥₁𝑥₂, dan 𝑥₂². Hasil dari regresi adalah nilai dari enam bobot yang meminimalkan SSR: 𝑏₀, 𝑏₁, 𝑏₂, 𝑏₃, 𝑏₄, dan 𝑏₅.\n"
   ]
  },
  {
   "cell_type": "markdown",
   "id": "a7b5d039",
   "metadata": {},
   "source": [
    "## Implementing Linear Regression in Python"
   ]
  },
  {
   "cell_type": "markdown",
   "id": "59578d88",
   "metadata": {},
   "source": [
    "### Simple Linear Regression With Scikit-Learn"
   ]
  },
  {
   "cell_type": "code",
   "execution_count": 1,
   "id": "e05ca970",
   "metadata": {},
   "outputs": [],
   "source": [
    "# Step 1 : Import Packages and Classes\n",
    "\n",
    "import numpy as np\n",
    "import matplotlib.pyplot as plt\n",
    "from sklearn.linear_model import LinearRegression\n",
    "\n",
    "%matplotlib inline"
   ]
  },
  {
   "cell_type": "code",
   "execution_count": 2,
   "id": "30bab1b9",
   "metadata": {},
   "outputs": [
    {
     "name": "stdout",
     "output_type": "stream",
     "text": [
      "[[ 5]\n",
      " [15]\n",
      " [25]\n",
      " [35]\n",
      " [45]\n",
      " [55]] [ 5 20 14 32 22 38]\n"
     ]
    }
   ],
   "source": [
    "# Step 2 : Provide Data\n",
    "\n",
    "x = np.array([\n",
    "    5,\n",
    "    15,\n",
    "    25,\n",
    "    35,\n",
    "    45,\n",
    "    55\n",
    "]).reshape((-1, 1))\n",
    "\n",
    "y = np.array([\n",
    "    5,\n",
    "    20,\n",
    "    14,\n",
    "    32,\n",
    "    22,\n",
    "    38\n",
    "])\n",
    "\n",
    "print(x, y)"
   ]
  },
  {
   "cell_type": "code",
   "execution_count": 3,
   "id": "3a027fdd",
   "metadata": {},
   "outputs": [],
   "source": [
    "# Step 3 : Create a model and fit it\n",
    "\n",
    "model = LinearRegression()"
   ]
  },
  {
   "cell_type": "code",
   "execution_count": 4,
   "id": "1a1558ad",
   "metadata": {},
   "outputs": [
    {
     "data": {
      "text/plain": [
       "LinearRegression()"
      ]
     },
     "execution_count": 4,
     "metadata": {},
     "output_type": "execute_result"
    }
   ],
   "source": [
    "model.fit(x, y)"
   ]
  },
  {
   "cell_type": "code",
   "execution_count": 5,
   "id": "432bad23",
   "metadata": {},
   "outputs": [
    {
     "data": {
      "text/plain": [
       "LinearRegression()"
      ]
     },
     "execution_count": 5,
     "metadata": {},
     "output_type": "execute_result"
    }
   ],
   "source": [
    "LinearRegression(copy_X=True, fit_intercept=True, n_jobs=None, normalize=False)"
   ]
  },
  {
   "cell_type": "code",
   "execution_count": 6,
   "id": "d83a22b5",
   "metadata": {},
   "outputs": [],
   "source": [
    "model = LinearRegression().fit(x, y)"
   ]
  },
  {
   "cell_type": "code",
   "execution_count": 7,
   "id": "3f11e131",
   "metadata": {},
   "outputs": [
    {
     "name": "stdout",
     "output_type": "stream",
     "text": [
      "Coefficient of Determination: 0.7158756137479542\n"
     ]
    }
   ],
   "source": [
    "# Step 4 : Get the result\n",
    "\n",
    "r_sq = model.score(x, y)\n",
    "\n",
    "print(\"Coefficient of Determination:\", r_sq)"
   ]
  },
  {
   "cell_type": "code",
   "execution_count": 8,
   "id": "5cfd6318",
   "metadata": {},
   "outputs": [
    {
     "name": "stdout",
     "output_type": "stream",
     "text": [
      "intercept: 5.633333333333329\n",
      "slope: [0.54]\n"
     ]
    }
   ],
   "source": [
    "print('intercept:', model.intercept_)\n",
    "print('slope:', model.coef_)"
   ]
  },
  {
   "cell_type": "code",
   "execution_count": 9,
   "id": "fabf7fe8",
   "metadata": {},
   "outputs": [
    {
     "name": "stdout",
     "output_type": "stream",
     "text": [
      "intercept: [5.63333333]\n",
      "slope: [[0.54]]\n"
     ]
    }
   ],
   "source": [
    "# secara ringkas\n",
    "new_model = LinearRegression().fit(x, y.reshape((-1, 1)))\n",
    "print('intercept:', new_model.intercept_)\n",
    "print('slope:', new_model.coef_)"
   ]
  },
  {
   "cell_type": "code",
   "execution_count": 10,
   "id": "ae2f2b7d",
   "metadata": {},
   "outputs": [
    {
     "name": "stdout",
     "output_type": "stream",
     "text": [
      "predicted response:\n",
      "[ 8.33333333 13.73333333 19.13333333 24.53333333 29.93333333 35.33333333]\n"
     ]
    }
   ],
   "source": [
    "# Step 5: Predict response\n",
    "\n",
    "y_pred = model.predict(x)\n",
    "print('predicted response:', y_pred, sep='\\n')"
   ]
  },
  {
   "cell_type": "code",
   "execution_count": 11,
   "id": "415438c8",
   "metadata": {},
   "outputs": [
    {
     "data": {
      "image/png": "[encoded data removed]",
      "text/plain": [
       "<Figure size 432x288 with 1 Axes>"
      ]
     },
     "metadata": {
      "needs_background": "light"
     },
     "output_type": "display_data"
    }
   ],
   "source": [
    "plt.scatter(x, y, alpha=0.5)\n",
    "plt.plot(x, y_pred)\n",
    "\n",
    "plt.title('Scatter plot x and y')\n",
    "plt.xlabel('x')\n",
    "plt.ylabel('y')\n",
    "plt.show()"
   ]
  },
  {
   "cell_type": "code",
   "execution_count": 12,
   "id": "779bc819",
   "metadata": {},
   "outputs": [
    {
     "name": "stdout",
     "output_type": "stream",
     "text": [
      "predicted response:\n",
      "[[ 8.33333333]\n",
      " [13.73333333]\n",
      " [19.13333333]\n",
      " [24.53333333]\n",
      " [29.93333333]\n",
      " [35.33333333]]\n"
     ]
    }
   ],
   "source": [
    "y_pred = model.intercept_ + model.coef_ * x\n",
    "print('predicted response:', y_pred, sep='\\n')"
   ]
  },
  {
   "cell_type": "code",
   "execution_count": 13,
   "id": "eb66fe8d",
   "metadata": {},
   "outputs": [
    {
     "name": "stdout",
     "output_type": "stream",
     "text": [
      "[[0]\n",
      " [1]\n",
      " [2]\n",
      " [3]\n",
      " [4]]\n",
      "[5.63333333 6.17333333 6.71333333 7.25333333 7.79333333]\n"
     ]
    }
   ],
   "source": [
    "x_new = np.arange(5).reshape((-1, 1))\n",
    "print(x_new)\n",
    "y_new = model.predict(x_new)\n",
    "print(y_new)"
   ]
  },
  {
   "cell_type": "markdown",
   "id": "6a6aac76",
   "metadata": {},
   "source": [
    "### Multiple Linear Regression With scikit-learn"
   ]
  },
  {
   "cell_type": "code",
   "execution_count": 14,
   "id": "2445ecc3",
   "metadata": {},
   "outputs": [],
   "source": [
    "# Step 1 : Import Packages\n",
    "\n",
    "import numpy as np\n",
    "from sklearn.linear_model import LinearRegression"
   ]
  },
  {
   "cell_type": "code",
   "execution_count": 15,
   "id": "6f624031",
   "metadata": {},
   "outputs": [
    {
     "name": "stdout",
     "output_type": "stream",
     "text": [
      "[[ 0  1]\n",
      " [ 5  1]\n",
      " [15  2]\n",
      " [25  5]\n",
      " [35 11]\n",
      " [45 15]\n",
      " [55 34]\n",
      " [60 35]]\n",
      "[ 4  5 20 14 32 22 38 43]\n"
     ]
    }
   ],
   "source": [
    "# Step 2 : Provide Data\n",
    "\n",
    "x = [[0, 1], [5, 1], [15, 2], [25, 5], [35, 11], [45, 15], [55, 34], [60, 35]]\n",
    "y = [4, 5, 20, 14, 32, 22, 38, 43]\n",
    "x, y = np.array(x), np.array(y)\n",
    "\n",
    "print(x)\n",
    "print(y)"
   ]
  },
  {
   "cell_type": "code",
   "execution_count": 16,
   "id": "bea8420c",
   "metadata": {},
   "outputs": [],
   "source": [
    "# Step 3 : Create a model and fit it\n",
    "\n",
    "model = LinearRegression().fit(x, y)"
   ]
  },
  {
   "cell_type": "code",
   "execution_count": 17,
   "id": "642b9600",
   "metadata": {},
   "outputs": [
    {
     "name": "stdout",
     "output_type": "stream",
     "text": [
      "coefficient of determination: 0.8615939258756776\n",
      "intercept: 5.522579275198183\n",
      "slope: [0.44706965 0.25502548]\n"
     ]
    }
   ],
   "source": [
    "# Step 4 : Get results\n",
    "\n",
    "r_sq = model.score(x, y)\n",
    "print('coefficient of determination:', r_sq)\n",
    "print('intercept:', model.intercept_)\n",
    "print('slope:', model.coef_)"
   ]
  },
  {
   "cell_type": "code",
   "execution_count": 18,
   "id": "cf92a83b",
   "metadata": {},
   "outputs": [
    {
     "name": "stdout",
     "output_type": "stream",
     "text": [
      "predicted response:\n",
      "[ 5.77760476  8.012953   12.73867497 17.9744479  23.97529728 29.4660957\n",
      " 38.78227633 41.27265006]\n"
     ]
    }
   ],
   "source": [
    "# Step 5 : Predict response\n",
    "\n",
    "y_pred = model.predict(x)\n",
    "print('predicted response:', y_pred, sep='\\n')"
   ]
  },
  {
   "cell_type": "code",
   "execution_count": 19,
   "id": "85e9076f",
   "metadata": {},
   "outputs": [
    {
     "name": "stdout",
     "output_type": "stream",
     "text": [
      "predicted response:\n",
      "[ 5.77760476  8.012953   12.73867497 17.9744479  23.97529728 29.4660957\n",
      " 38.78227633 41.27265006]\n"
     ]
    }
   ],
   "source": [
    "y_pred = model.intercept_ + np.sum(model.coef_ * x, axis=1)\n",
    "print('predicted response:', y_pred, sep='\\n')"
   ]
  },
  {
   "cell_type": "code",
   "execution_count": 20,
   "id": "ee8d5423",
   "metadata": {},
   "outputs": [
    {
     "name": "stdout",
     "output_type": "stream",
     "text": [
      "[[0 1]\n",
      " [2 3]\n",
      " [4 5]\n",
      " [6 7]\n",
      " [8 9]]\n",
      "[ 5.77760476  7.18179502  8.58598528  9.99017554 11.3943658 ]\n"
     ]
    }
   ],
   "source": [
    "x_new = np.arange(10).reshape((-1, 2))\n",
    "print(x_new)\n",
    "y_new = model.predict(x_new)\n",
    "print(y_new)"
   ]
  },
  {
   "cell_type": "markdown",
   "id": "eb0f8e92",
   "metadata": {},
   "source": [
    "### Polynomial Regression With scikit-learn"
   ]
  },
  {
   "cell_type": "code",
   "execution_count": 21,
   "id": "be569f85",
   "metadata": {},
   "outputs": [],
   "source": [
    "# Step 1: Import packages and classes\n",
    "\n",
    "import numpy as np\n",
    "from sklearn.linear_model import LinearRegression\n",
    "from sklearn.preprocessing import PolynomialFeatures"
   ]
  },
  {
   "cell_type": "code",
   "execution_count": 22,
   "id": "f81d06c6",
   "metadata": {},
   "outputs": [
    {
     "name": "stdout",
     "output_type": "stream",
     "text": [
      "[[ 5]\n",
      " [15]\n",
      " [25]\n",
      " [35]\n",
      " [45]\n",
      " [55]]\n",
      "[15 11  2  8 25 32]\n"
     ]
    }
   ],
   "source": [
    "# Step 2a: Provide data\n",
    "\n",
    "x = np.array([5, 15, 25, 35, 45, 55]).reshape((-1, 1))\n",
    "y = np.array([15, 11, 2, 8, 25, 32])\n",
    "\n",
    "print(x)\n",
    "print(y)"
   ]
  },
  {
   "cell_type": "code",
   "execution_count": 23,
   "id": "6782e2e5",
   "metadata": {},
   "outputs": [
    {
     "data": {
      "image/png": "[encoded data removed]",
      "text/plain": [
       "<Figure size 432x288 with 1 Axes>"
      ]
     },
     "metadata": {
      "needs_background": "light"
     },
     "output_type": "display_data"
    }
   ],
   "source": [
    "plt.scatter(x, y, alpha=0.5);"
   ]
  },
  {
   "cell_type": "code",
   "execution_count": 24,
   "id": "4f14df3b",
   "metadata": {},
   "outputs": [],
   "source": [
    "# Step 2b: Transform input data\n",
    "\n",
    "transformer = PolynomialFeatures(degree=2, include_bias=False)"
   ]
  },
  {
   "cell_type": "markdown",
   "id": "b1bfbda1",
   "metadata": {},
   "source": [
    "Ini adalah langkah baru yang perlu kita terapkan untuk polynomial regression!\n",
    "\n",
    "Seperti yang telah kita lihat sebelumnya, kita perlu menyertakan 𝑥² (dan mungkin istilah lain) sebagai fitur tambahan saat menerapkan polynomial regression. Oleh karena itu, kita harus mengubah input array x agar berisi kolom tambahan dengan nilai 𝑥² (dan pada akhirnya lebih banyak fitur).\n",
    "\n",
    "Dimungkinkan untuk mengubah input array dengan beberapa cara (seperti menggunakan insert() dari numpy), tetapi kelas PolynomialFeatures sangat nyaman untuk tujuan ini. Mari buat instance dari classini:\n",
    "\n",
    "Variable transformer mengacu pada instance PolynomialFeatures yang dapat kita gunakan untuk transform input x.\n",
    "\n",
    "Kita dapat memberikan beberapa parameter opsional ke PolynomialFeatures:\n",
    "\n",
    "- **degree** adalah integer (2 secara default) yang mewakili derajat fungsi regresi polinomial.\n",
    "- **interaction_only** adalah Boolean (False secara default) yang memutuskan apakah hanya menyertakan fitur interaksi (Benar) atau semua fitur (Salah).\n",
    "- **include_bias** adalah Boolean (True secara default) yang memutuskan apakah akan menyertakan kolom bias (intercept) satu (True) atau tidak (False).\n",
    "\n",
    "Contoh ini menggunakan nilai default dari semua parameter, tetapi terkadang kita ingin bereksperimen dengan degree dari function.\n",
    "\n",
    "Sebelum mengaplikasikan transformer, kita harus menyesuaikannya dengan .fit():"
   ]
  },
  {
   "cell_type": "code",
   "execution_count": 25,
   "id": "aac09d17",
   "metadata": {},
   "outputs": [
    {
     "data": {
      "text/plain": [
       "PolynomialFeatures(include_bias=False)"
      ]
     },
     "execution_count": 25,
     "metadata": {},
     "output_type": "execute_result"
    }
   ],
   "source": [
    "transformer.fit(x)"
   ]
  },
  {
   "cell_type": "code",
   "execution_count": 26,
   "id": "d0942d65",
   "metadata": {},
   "outputs": [
    {
     "data": {
      "text/plain": [
       "array([[   5.,   25.],\n",
       "       [  15.,  225.],\n",
       "       [  25.,  625.],\n",
       "       [  35., 1225.],\n",
       "       [  45., 2025.],\n",
       "       [  55., 3025.]])"
      ]
     },
     "execution_count": 26,
     "metadata": {},
     "output_type": "execute_result"
    }
   ],
   "source": [
    "x_ = transformer.transform(x)\n",
    "x_"
   ]
  },
  {
   "cell_type": "code",
   "execution_count": 27,
   "id": "738a6575",
   "metadata": {},
   "outputs": [],
   "source": [
    "x_ = PolynomialFeatures(degree=2, include_bias=False).fit_transform(x)"
   ]
  },
  {
   "cell_type": "code",
   "execution_count": 28,
   "id": "cfb0481a",
   "metadata": {},
   "outputs": [
    {
     "name": "stdout",
     "output_type": "stream",
     "text": [
      "[[   5.   25.]\n",
      " [  15.  225.]\n",
      " [  25.  625.]\n",
      " [  35. 1225.]\n",
      " [  45. 2025.]\n",
      " [  55. 3025.]]\n"
     ]
    }
   ],
   "source": [
    "print(x_)"
   ]
  },
  {
   "cell_type": "code",
   "execution_count": 29,
   "id": "968f2f86",
   "metadata": {},
   "outputs": [],
   "source": [
    "# Step 3: Create a model and fit it\n",
    "\n",
    "model = LinearRegression().fit(x_, y)"
   ]
  },
  {
   "cell_type": "code",
   "execution_count": 30,
   "id": "23b9de95",
   "metadata": {},
   "outputs": [
    {
     "name": "stdout",
     "output_type": "stream",
     "text": [
      "coefficient of determination: 0.8908516262498563\n",
      "intercept: 21.372321428571453\n",
      "coefficients: [-1.32357143  0.02839286]\n"
     ]
    }
   ],
   "source": [
    "# Step 4: Get results\n",
    "\n",
    "r_sq = model.score(x_, y)\n",
    "print('coefficient of determination:', r_sq)\n",
    "print('intercept:', model.intercept_)\n",
    "print('coefficients:', model.coef_)"
   ]
  },
  {
   "cell_type": "code",
   "execution_count": 31,
   "id": "2f4d1f7d",
   "metadata": {},
   "outputs": [],
   "source": [
    "x_ = PolynomialFeatures(degree=2, include_bias=True).fit_transform(x)"
   ]
  },
  {
   "cell_type": "code",
   "execution_count": 32,
   "id": "1d947614",
   "metadata": {},
   "outputs": [
    {
     "name": "stdout",
     "output_type": "stream",
     "text": [
      "[[1.000e+00 5.000e+00 2.500e+01]\n",
      " [1.000e+00 1.500e+01 2.250e+02]\n",
      " [1.000e+00 2.500e+01 6.250e+02]\n",
      " [1.000e+00 3.500e+01 1.225e+03]\n",
      " [1.000e+00 4.500e+01 2.025e+03]\n",
      " [1.000e+00 5.500e+01 3.025e+03]]\n"
     ]
    }
   ],
   "source": [
    "print(x_)\n"
   ]
  },
  {
   "cell_type": "code",
   "execution_count": 33,
   "id": "86588ab2",
   "metadata": {},
   "outputs": [],
   "source": [
    "model = LinearRegression(fit_intercept=False).fit(x_, y)\n"
   ]
  },
  {
   "cell_type": "code",
   "execution_count": 34,
   "id": "1f9ce2a6",
   "metadata": {},
   "outputs": [
    {
     "name": "stdout",
     "output_type": "stream",
     "text": [
      "coefficient of determination: 0.8908516262498563\n",
      "intercept: 0.0\n",
      "coefficients: [21.37232143 -1.32357143  0.02839286]\n"
     ]
    }
   ],
   "source": [
    "r_sq = model.score(x_, y)\n",
    "print('coefficient of determination:', r_sq)\n",
    "print('intercept:', model.intercept_)\n",
    "print('coefficients:', model.coef_)"
   ]
  },
  {
   "cell_type": "code",
   "execution_count": 35,
   "id": "f6a15dd9",
   "metadata": {},
   "outputs": [
    {
     "name": "stdout",
     "output_type": "stream",
     "text": [
      "predicted response:\n",
      "[15.46428571  7.90714286  6.02857143  9.82857143 19.30714286 34.46428571]\n"
     ]
    }
   ],
   "source": [
    "# Step 5: Predict response\n",
    "\n",
    "y_pred = model.predict(x_)\n",
    "print('predicted response:', y_pred, sep='\\n')"
   ]
  },
  {
   "cell_type": "markdown",
   "id": "1080216b",
   "metadata": {},
   "source": [
    "Seperti yang kita lihat, prediksi bekerja dengan cara yang hampir sama seperti dalam kasus linear regression. Ini hanya membutuhkan masukan yang dimodifikasi, bukan yang asli.\n",
    "\n",
    "Kita dapat menerapkan prosedur yang sama jika kita memiliki beberapa variabel masukan. Kita akan membuat array masukan dengan lebih dari satu kolom, tetapi yang lainnya sama. Berikut ini contohnya:"
   ]
  },
  {
   "cell_type": "code",
   "execution_count": 36,
   "id": "eb7a50f0",
   "metadata": {},
   "outputs": [],
   "source": [
    "# Step 1: Import packages\n",
    "import numpy as np\n",
    "from sklearn.linear_model import LinearRegression\n",
    "from sklearn.preprocessing import PolynomialFeatures\n",
    "\n",
    "# Step 2a: Provide data\n",
    "x = [[0, 1], [5, 1], [15, 2], [25, 5], [35, 11], [45, 15], [55, 34], [60, 35]]\n",
    "y = [4, 5, 20, 14, 32, 22, 38, 43]\n",
    "x, y = np.array(x), np.array(y)\n",
    "\n",
    "# Step 2b: Transform input data\n",
    "x_ = PolynomialFeatures(degree=2, include_bias=False).fit_transform(x)\n",
    "\n",
    "# Step 3: Create a model and fit it\n",
    "model = LinearRegression().fit(x_, y)\n",
    "\n",
    "# Step 4: Get results\n",
    "r_sq = model.score(x_, y)\n",
    "intercept, coefficients = model.intercept_, model.coef_\n",
    "\n",
    "# Step 5: Predict\n",
    "y_pred = model.predict(x_)"
   ]
  },
  {
   "cell_type": "code",
   "execution_count": 37,
   "id": "a4d03974",
   "metadata": {},
   "outputs": [
    {
     "name": "stdout",
     "output_type": "stream",
     "text": [
      "coefficient of determination: 0.9453701449127823\n",
      "intercept: 0.8430556452397582\n",
      "coefficients:\n",
      "[ 2.44828275  0.16160353 -0.15259677  0.47928683 -0.4641851 ]\n",
      "predicted response:\n",
      "[ 0.54047408 11.36340283 16.07809622 15.79139    29.73858619 23.50834636\n",
      " 39.05631386 41.92339046]\n"
     ]
    }
   ],
   "source": [
    "print('coefficient of determination:', r_sq)\n",
    "print('intercept:', intercept)\n",
    "print('coefficients:', coefficients, sep='\\n')\n",
    "print('predicted response:', y_pred, sep='\\n')"
   ]
  },
  {
   "cell_type": "markdown",
   "id": "4f3bfa27",
   "metadata": {},
   "source": [
    "Dalam hal ini, ada enam regression coefficients (termasuk intercept), seperti yang ditunjukkan dalam estimated regression function 𝑓(𝑥₁, 𝑥₂) = 𝑏₀ + 𝑏₁𝑥₁ + 𝑏₂𝑥₂ + 𝑏₃𝑥₁² + 𝑏₄𝑥₁𝑥₂ + 𝑏₅𝑥₂².\n",
    "\n",
    "Kita juga dapat melihat bahwa regresi polinomial menghasilkan coefficient of determination yang lebih tinggi daripada multiple linear regression untuk masalah yang sama. Pada awalnya, kita mungkin mengira bahwa mendapatkan 𝑅² sebesar itu adalah hasil yang sangat baik. Mungkin.\n",
    "\n",
    "Namun, dalam situasi dunia nyata, memiliki model yang kompleks dan 𝑅² sangat dekat dengan 1 mungkin juga merupakan tanda overfitting. Untuk mengecek performansi suatu model sebaiknya dilakukan pengujian dengan data baru yaitu dengan observasi yang tidak digunakan untuk fit (train) model."
   ]
  },
  {
   "cell_type": "markdown",
   "id": "b96c5155",
   "metadata": {},
   "source": [
    "## Advanced Linear Regression With statsmodels"
   ]
  },
  {
   "cell_type": "code",
   "execution_count": 38,
   "id": "5b8de8e1",
   "metadata": {},
   "outputs": [],
   "source": [
    "# Step 1: Import packages\n",
    "\n",
    "import numpy as np\n",
    "import statsmodels.api as sm\n",
    "import warnings\n",
    "warnings.filterwarnings(\"ignore\")"
   ]
  },
  {
   "cell_type": "code",
   "execution_count": 39,
   "id": "372c3e8c",
   "metadata": {},
   "outputs": [
    {
     "name": "stdout",
     "output_type": "stream",
     "text": [
      "[[ 0  1]\n",
      " [ 5  1]\n",
      " [15  2]\n",
      " [25  5]\n",
      " [35 11]\n",
      " [45 15]\n",
      " [55 34]\n",
      " [60 35]]\n"
     ]
    }
   ],
   "source": [
    "# Step 2: Provide data and transform inputs\n",
    "\n",
    "x = [[0, 1], [5, 1], [15, 2], [25, 5], [35, 11], [45, 15], [55, 34], [60, 35]]\n",
    "y = [4, 5, 20, 14, 32, 22, 38, 43]\n",
    "x, y = np.array(x), np.array(y)\n",
    "print(x)"
   ]
  },
  {
   "cell_type": "code",
   "execution_count": 40,
   "id": "c1c83312",
   "metadata": {},
   "outputs": [],
   "source": [
    "x = sm.add_constant(x)"
   ]
  },
  {
   "cell_type": "code",
   "execution_count": 41,
   "id": "63122be7",
   "metadata": {},
   "outputs": [
    {
     "name": "stdout",
     "output_type": "stream",
     "text": [
      "[[ 1.  0.  1.]\n",
      " [ 1.  5.  1.]\n",
      " [ 1. 15.  2.]\n",
      " [ 1. 25.  5.]\n",
      " [ 1. 35. 11.]\n",
      " [ 1. 45. 15.]\n",
      " [ 1. 55. 34.]\n",
      " [ 1. 60. 35.]]\n",
      "[ 4  5 20 14 32 22 38 43]\n"
     ]
    }
   ],
   "source": [
    "print(x)\n",
    "print(y)"
   ]
  },
  {
   "cell_type": "code",
   "execution_count": 42,
   "id": "7adf7c40",
   "metadata": {},
   "outputs": [],
   "source": [
    "# Step 3: Create a model and fit it\n",
    "\n",
    "model = sm.OLS(y, x)"
   ]
  },
  {
   "cell_type": "code",
   "execution_count": 43,
   "id": "f9983bc6",
   "metadata": {},
   "outputs": [],
   "source": [
    "results = model.fit()"
   ]
  },
  {
   "cell_type": "code",
   "execution_count": 44,
   "id": "88719d94",
   "metadata": {},
   "outputs": [
    {
     "name": "stdout",
     "output_type": "stream",
     "text": [
      "                            OLS Regression Results                            \n",
      "==============================================================================\n",
      "Dep. Variable:                      y   R-squared:                       0.862\n",
      "Model:                            OLS   Adj. R-squared:                  0.806\n",
      "Method:                 Least Squares   F-statistic:                     15.56\n",
      "Date:                Mon, 25 Apr 2022   Prob (F-statistic):            0.00713\n",
      "Time:                        02:16:47   Log-Likelihood:                -24.316\n",
      "No. Observations:                   8   AIC:                             54.63\n",
      "Df Residuals:                       5   BIC:                             54.87\n",
      "Df Model:                           2                                         \n",
      "Covariance Type:            nonrobust                                         \n",
      "==============================================================================\n",
      "                 coef    std err          t      P>|t|      [0.025      0.975]\n",
      "------------------------------------------------------------------------------\n",
      "const          5.5226      4.431      1.246      0.268      -5.867      16.912\n",
      "x1             0.4471      0.285      1.567      0.178      -0.286       1.180\n",
      "x2             0.2550      0.453      0.563      0.598      -0.910       1.420\n",
      "==============================================================================\n",
      "Omnibus:                        0.561   Durbin-Watson:                   3.268\n",
      "Prob(Omnibus):                  0.755   Jarque-Bera (JB):                0.534\n",
      "Skew:                           0.380   Prob(JB):                        0.766\n",
      "Kurtosis:                       1.987   Cond. No.                         80.1\n",
      "==============================================================================\n",
      "\n",
      "Notes:\n",
      "[1] Standard Errors assume that the covariance matrix of the errors is correctly specified.\n"
     ]
    }
   ],
   "source": [
    "# Step 4: Get results\n",
    "\n",
    "print(results.summary())"
   ]
  },
  {
   "cell_type": "code",
   "execution_count": 45,
   "id": "198b05d2",
   "metadata": {},
   "outputs": [
    {
     "name": "stdout",
     "output_type": "stream",
     "text": [
      "coefficient of determination: 0.8615939258756776\n",
      "adjusted coefficient of determination: 0.8062314962259487\n",
      "regression coefficients: [5.52257928 0.44706965 0.25502548]\n"
     ]
    }
   ],
   "source": [
    "print('coefficient of determination:', results.rsquared)\n",
    "print('adjusted coefficient of determination:', results.rsquared_adj)\n",
    "print('regression coefficients:', results.params)"
   ]
  },
  {
   "cell_type": "code",
   "execution_count": 46,
   "id": "8c8ab6bb",
   "metadata": {},
   "outputs": [
    {
     "name": "stdout",
     "output_type": "stream",
     "text": [
      "predicted response:\n",
      "[ 5.77760476  8.012953   12.73867497 17.9744479  23.97529728 29.4660957\n",
      " 38.78227633 41.27265006]\n",
      "predicted response:\n",
      "[ 5.77760476  8.012953   12.73867497 17.9744479  23.97529728 29.4660957\n",
      " 38.78227633 41.27265006]\n"
     ]
    }
   ],
   "source": [
    "# Step 5: Predict response\n",
    "\n",
    "print('predicted response:', results.fittedvalues, sep='\\n')\n",
    "print('predicted response:', results.predict(x), sep='\\n')"
   ]
  },
  {
   "cell_type": "code",
   "execution_count": 47,
   "id": "0380cbfe",
   "metadata": {},
   "outputs": [
    {
     "name": "stdout",
     "output_type": "stream",
     "text": [
      "[[1. 0. 1.]\n",
      " [1. 2. 3.]\n",
      " [1. 4. 5.]\n",
      " [1. 6. 7.]\n",
      " [1. 8. 9.]]\n",
      "[ 5.77760476  7.18179502  8.58598528  9.99017554 11.3943658 ]\n"
     ]
    }
   ],
   "source": [
    "x_new = sm.add_constant(np.arange(10).reshape((-1, 2)))\n",
    "print(x_new)\n",
    "y_new = results.predict(x_new)\n",
    "print(y_new)"
   ]
  },
  {
   "cell_type": "markdown",
   "id": "117c3efd",
   "metadata": {},
   "source": [
    "## Implementing Linear Regression on Real Dataset"
   ]
  },
  {
   "cell_type": "markdown",
   "id": "76279194",
   "metadata": {},
   "source": [
    "### Using Statsmodels"
   ]
  },
  {
   "cell_type": "code",
   "execution_count": 48,
   "id": "6f574134",
   "metadata": {},
   "outputs": [],
   "source": [
    "import statsmodels.api as sm\n",
    "from sklearn import datasets ## imports datasets from scikit-learn\n",
    "\n",
    "data = datasets.load_boston() ## loads Boston dataset from datasets library "
   ]
  },
  {
   "cell_type": "code",
   "execution_count": 49,
   "id": "c6653520",
   "metadata": {},
   "outputs": [
    {
     "name": "stdout",
     "output_type": "stream",
     "text": [
      ".. _boston_dataset:\n",
      "\n",
      "Boston house prices dataset\n",
      "---------------------------\n",
      "\n",
      "**Data Set Characteristics:**  \n",
      "\n",
      "    :Number of Instances: 506 \n",
      "\n",
      "    :Number of Attributes: 13 numeric/categorical predictive. Median Value (attribute 14) is usually the target.\n",
      "\n",
      "    :Attribute Information (in order):\n",
      "        - CRIM     per capita crime rate by town\n",
      "        - ZN       proportion of residential land zoned for lots over 25,000 sq.ft.\n",
      "        - INDUS    proportion of non-retail business acres per town\n",
      "        - CHAS     Charles River dummy variable (= 1 if tract bounds river; 0 otherwise)\n",
      "        - NOX      nitric oxides concentration (parts per 10 million)\n",
      "        - RM       average number of rooms per dwelling\n",
      "        - AGE      proportion of owner-occupied units built prior to 1940\n",
      "        - DIS      weighted distances to five Boston employment centres\n",
      "        - RAD      index of accessibility to radial highways\n",
      "        - TAX      full-value property-tax rate per $10,000\n",
      "        - PTRATIO  pupil-teacher ratio by town\n",
      "        - B        1000(Bk - 0.63)^2 where Bk is the proportion of black people by town\n",
      "        - LSTAT    % lower status of the population\n",
      "        - MEDV     Median value of owner-occupied homes in $1000's\n",
      "\n",
      "    :Missing Attribute Values: None\n",
      "\n",
      "    :Creator: Harrison, D. and Rubinfeld, D.L.\n",
      "\n",
      "This is a copy of UCI ML housing dataset.\n",
      "https://archive.ics.uci.edu/ml/machine-learning-databases/housing/\n",
      "\n",
      "\n",
      "This dataset was taken from the StatLib library which is maintained at Carnegie Mellon University.\n",
      "\n",
      "The Boston house-price data of Harrison, D. and Rubinfeld, D.L. 'Hedonic\n",
      "prices and the demand for clean air', J. Environ. Economics & Management,\n",
      "vol.5, 81-102, 1978.   Used in Belsley, Kuh & Welsch, 'Regression diagnostics\n",
      "...', Wiley, 1980.   N.B. Various transformations are used in the table on\n",
      "pages 244-261 of the latter.\n",
      "\n",
      "The Boston house-price data has been used in many machine learning papers that address regression\n",
      "problems.   \n",
      "     \n",
      ".. topic:: References\n",
      "\n",
      "   - Belsley, Kuh & Welsch, 'Regression diagnostics: Identifying Influential Data and Sources of Collinearity', Wiley, 1980. 244-261.\n",
      "   - Quinlan,R. (1993). Combining Instance-Based and Model-Based Learning. In Proceedings on the Tenth International Conference of Machine Learning, 236-243, University of Massachusetts, Amherst. Morgan Kaufmann.\n",
      "\n"
     ]
    }
   ],
   "source": [
    "print(data.DESCR)\n"
   ]
  },
  {
   "cell_type": "code",
   "execution_count": 50,
   "id": "a56a7969",
   "metadata": {},
   "outputs": [],
   "source": [
    "import numpy as np\n",
    "import pandas as pd\n",
    "\n",
    "# define the data/predictors as the pre-set feature names  \n",
    "df = pd.DataFrame(data.data, columns=data.feature_names)\n",
    "\n",
    "# Put the target (housing value -- MEDV) in another DataFrame\n",
    "target = pd.DataFrame(data.target, columns=[\"MEDV\"])\n"
   ]
  },
  {
   "cell_type": "code",
   "execution_count": 51,
   "id": "71b56cc7",
   "metadata": {},
   "outputs": [
    {
     "data": {
      "text/html": [
       "<div>\n",
       "<style scoped>\n",
       "    .dataframe tbody tr th:only-of-type {\n",
       "        vertical-align: middle;\n",
       "    }\n",
       "\n",
       "    .dataframe tbody tr th {\n",
       "        vertical-align: top;\n",
       "    }\n",
       "\n",
       "    .dataframe thead th {\n",
       "        text-align: right;\n",
       "    }\n",
       "</style>\n",
       "<table border=\"1\" class=\"dataframe\">\n",
       "  <thead>\n",
       "    <tr style=\"text-align: right;\">\n",
       "      <th></th>\n",
       "      <th>CRIM</th>\n",
       "      <th>ZN</th>\n",
       "      <th>INDUS</th>\n",
       "      <th>CHAS</th>\n",
       "      <th>NOX</th>\n",
       "      <th>RM</th>\n",
       "      <th>AGE</th>\n",
       "      <th>DIS</th>\n",
       "      <th>RAD</th>\n",
       "      <th>TAX</th>\n",
       "      <th>PTRATIO</th>\n",
       "      <th>B</th>\n",
       "      <th>LSTAT</th>\n",
       "    </tr>\n",
       "  </thead>\n",
       "  <tbody>\n",
       "    <tr>\n",
       "      <th>0</th>\n",
       "      <td>0.00632</td>\n",
       "      <td>18.0</td>\n",
       "      <td>2.31</td>\n",
       "      <td>0.0</td>\n",
       "      <td>0.538</td>\n",
       "      <td>6.575</td>\n",
       "      <td>65.2</td>\n",
       "      <td>4.0900</td>\n",
       "      <td>1.0</td>\n",
       "      <td>296.0</td>\n",
       "      <td>15.3</td>\n",
       "      <td>396.90</td>\n",
       "      <td>4.98</td>\n",
       "    </tr>\n",
       "    <tr>\n",
       "      <th>1</th>\n",
       "      <td>0.02731</td>\n",
       "      <td>0.0</td>\n",
       "      <td>7.07</td>\n",
       "      <td>0.0</td>\n",
       "      <td>0.469</td>\n",
       "      <td>6.421</td>\n",
       "      <td>78.9</td>\n",
       "      <td>4.9671</td>\n",
       "      <td>2.0</td>\n",
       "      <td>242.0</td>\n",
       "      <td>17.8</td>\n",
       "      <td>396.90</td>\n",
       "      <td>9.14</td>\n",
       "    </tr>\n",
       "    <tr>\n",
       "      <th>2</th>\n",
       "      <td>0.02729</td>\n",
       "      <td>0.0</td>\n",
       "      <td>7.07</td>\n",
       "      <td>0.0</td>\n",
       "      <td>0.469</td>\n",
       "      <td>7.185</td>\n",
       "      <td>61.1</td>\n",
       "      <td>4.9671</td>\n",
       "      <td>2.0</td>\n",
       "      <td>242.0</td>\n",
       "      <td>17.8</td>\n",
       "      <td>392.83</td>\n",
       "      <td>4.03</td>\n",
       "    </tr>\n",
       "    <tr>\n",
       "      <th>3</th>\n",
       "      <td>0.03237</td>\n",
       "      <td>0.0</td>\n",
       "      <td>2.18</td>\n",
       "      <td>0.0</td>\n",
       "      <td>0.458</td>\n",
       "      <td>6.998</td>\n",
       "      <td>45.8</td>\n",
       "      <td>6.0622</td>\n",
       "      <td>3.0</td>\n",
       "      <td>222.0</td>\n",
       "      <td>18.7</td>\n",
       "      <td>394.63</td>\n",
       "      <td>2.94</td>\n",
       "    </tr>\n",
       "    <tr>\n",
       "      <th>4</th>\n",
       "      <td>0.06905</td>\n",
       "      <td>0.0</td>\n",
       "      <td>2.18</td>\n",
       "      <td>0.0</td>\n",
       "      <td>0.458</td>\n",
       "      <td>7.147</td>\n",
       "      <td>54.2</td>\n",
       "      <td>6.0622</td>\n",
       "      <td>3.0</td>\n",
       "      <td>222.0</td>\n",
       "      <td>18.7</td>\n",
       "      <td>396.90</td>\n",
       "      <td>5.33</td>\n",
       "    </tr>\n",
       "  </tbody>\n",
       "</table>\n",
       "</div>"
      ],
      "text/plain": [
       "      CRIM    ZN  INDUS  CHAS    NOX     RM   AGE     DIS  RAD    TAX  \\\n",
       "0  0.00632  18.0   2.31   0.0  0.538  6.575  65.2  4.0900  1.0  296.0   \n",
       "1  0.02731   0.0   7.07   0.0  0.469  6.421  78.9  4.9671  2.0  242.0   \n",
       "2  0.02729   0.0   7.07   0.0  0.469  7.185  61.1  4.9671  2.0  242.0   \n",
       "3  0.03237   0.0   2.18   0.0  0.458  6.998  45.8  6.0622  3.0  222.0   \n",
       "4  0.06905   0.0   2.18   0.0  0.458  7.147  54.2  6.0622  3.0  222.0   \n",
       "\n",
       "   PTRATIO       B  LSTAT  \n",
       "0     15.3  396.90   4.98  \n",
       "1     17.8  396.90   9.14  \n",
       "2     17.8  392.83   4.03  \n",
       "3     18.7  394.63   2.94  \n",
       "4     18.7  396.90   5.33  "
      ]
     },
     "execution_count": 51,
     "metadata": {},
     "output_type": "execute_result"
    }
   ],
   "source": [
    "df.head()"
   ]
  },
  {
   "cell_type": "code",
   "execution_count": 52,
   "id": "972c4118",
   "metadata": {},
   "outputs": [
    {
     "data": {
      "text/html": [
       "<div>\n",
       "<style scoped>\n",
       "    .dataframe tbody tr th:only-of-type {\n",
       "        vertical-align: middle;\n",
       "    }\n",
       "\n",
       "    .dataframe tbody tr th {\n",
       "        vertical-align: top;\n",
       "    }\n",
       "\n",
       "    .dataframe thead th {\n",
       "        text-align: right;\n",
       "    }\n",
       "</style>\n",
       "<table border=\"1\" class=\"dataframe\">\n",
       "  <thead>\n",
       "    <tr style=\"text-align: right;\">\n",
       "      <th></th>\n",
       "      <th>MEDV</th>\n",
       "    </tr>\n",
       "  </thead>\n",
       "  <tbody>\n",
       "    <tr>\n",
       "      <th>0</th>\n",
       "      <td>24.0</td>\n",
       "    </tr>\n",
       "    <tr>\n",
       "      <th>1</th>\n",
       "      <td>21.6</td>\n",
       "    </tr>\n",
       "    <tr>\n",
       "      <th>2</th>\n",
       "      <td>34.7</td>\n",
       "    </tr>\n",
       "    <tr>\n",
       "      <th>3</th>\n",
       "      <td>33.4</td>\n",
       "    </tr>\n",
       "    <tr>\n",
       "      <th>4</th>\n",
       "      <td>36.2</td>\n",
       "    </tr>\n",
       "  </tbody>\n",
       "</table>\n",
       "</div>"
      ],
      "text/plain": [
       "   MEDV\n",
       "0  24.0\n",
       "1  21.6\n",
       "2  34.7\n",
       "3  33.4\n",
       "4  36.2"
      ]
     },
     "execution_count": 52,
     "metadata": {},
     "output_type": "execute_result"
    }
   ],
   "source": [
    "target.head()"
   ]
  },
  {
   "cell_type": "code",
   "execution_count": 53,
   "id": "d8fe1108",
   "metadata": {},
   "outputs": [
    {
     "data": {
      "text/html": [
       "<table class=\"simpletable\">\n",
       "<caption>OLS Regression Results</caption>\n",
       "<tr>\n",
       "  <th>Dep. Variable:</th>          <td>MEDV</td>       <th>  R-squared (uncentered):</th>      <td>   0.901</td> \n",
       "</tr>\n",
       "<tr>\n",
       "  <th>Model:</th>                   <td>OLS</td>       <th>  Adj. R-squared (uncentered):</th> <td>   0.901</td> \n",
       "</tr>\n",
       "<tr>\n",
       "  <th>Method:</th>             <td>Least Squares</td>  <th>  F-statistic:       </th>          <td>   4615.</td> \n",
       "</tr>\n",
       "<tr>\n",
       "  <th>Date:</th>             <td>Mon, 25 Apr 2022</td> <th>  Prob (F-statistic):</th>          <td>3.74e-256</td>\n",
       "</tr>\n",
       "<tr>\n",
       "  <th>Time:</th>                 <td>02:16:47</td>     <th>  Log-Likelihood:    </th>          <td> -1747.1</td> \n",
       "</tr>\n",
       "<tr>\n",
       "  <th>No. Observations:</th>      <td>   506</td>      <th>  AIC:               </th>          <td>   3496.</td> \n",
       "</tr>\n",
       "<tr>\n",
       "  <th>Df Residuals:</th>          <td>   505</td>      <th>  BIC:               </th>          <td>   3500.</td> \n",
       "</tr>\n",
       "<tr>\n",
       "  <th>Df Model:</th>              <td>     1</td>      <th>                     </th>              <td> </td>    \n",
       "</tr>\n",
       "<tr>\n",
       "  <th>Covariance Type:</th>      <td>nonrobust</td>    <th>                     </th>              <td> </td>    \n",
       "</tr>\n",
       "</table>\n",
       "<table class=\"simpletable\">\n",
       "<tr>\n",
       "   <td></td>     <th>coef</th>     <th>std err</th>      <th>t</th>      <th>P>|t|</th>  <th>[0.025</th>    <th>0.975]</th>  \n",
       "</tr>\n",
       "<tr>\n",
       "  <th>RM</th> <td>    3.6534</td> <td>    0.054</td> <td>   67.930</td> <td> 0.000</td> <td>    3.548</td> <td>    3.759</td>\n",
       "</tr>\n",
       "</table>\n",
       "<table class=\"simpletable\">\n",
       "<tr>\n",
       "  <th>Omnibus:</th>       <td>83.295</td> <th>  Durbin-Watson:     </th> <td>   0.493</td>\n",
       "</tr>\n",
       "<tr>\n",
       "  <th>Prob(Omnibus):</th> <td> 0.000</td> <th>  Jarque-Bera (JB):  </th> <td> 152.507</td>\n",
       "</tr>\n",
       "<tr>\n",
       "  <th>Skew:</th>          <td> 0.955</td> <th>  Prob(JB):          </th> <td>7.65e-34</td>\n",
       "</tr>\n",
       "<tr>\n",
       "  <th>Kurtosis:</th>      <td> 4.894</td> <th>  Cond. No.          </th> <td>    1.00</td>\n",
       "</tr>\n",
       "</table><br/><br/>Notes:<br/>[1] R² is computed without centering (uncentered) since the model does not contain a constant.<br/>[2] Standard Errors assume that the covariance matrix of the errors is correctly specified."
      ],
      "text/plain": [
       "<class 'statsmodels.iolib.summary.Summary'>\n",
       "\"\"\"\n",
       "                                 OLS Regression Results                                \n",
       "=======================================================================================\n",
       "Dep. Variable:                   MEDV   R-squared (uncentered):                   0.901\n",
       "Model:                            OLS   Adj. R-squared (uncentered):              0.901\n",
       "Method:                 Least Squares   F-statistic:                              4615.\n",
       "Date:                Mon, 25 Apr 2022   Prob (F-statistic):                   3.74e-256\n",
       "Time:                        02:16:47   Log-Likelihood:                         -1747.1\n",
       "No. Observations:                 506   AIC:                                      3496.\n",
       "Df Residuals:                     505   BIC:                                      3500.\n",
       "Df Model:                           1                                                  \n",
       "Covariance Type:            nonrobust                                                  \n",
       "==============================================================================\n",
       "                 coef    std err          t      P>|t|      [0.025      0.975]\n",
       "------------------------------------------------------------------------------\n",
       "RM             3.6534      0.054     67.930      0.000       3.548       3.759\n",
       "==============================================================================\n",
       "Omnibus:                       83.295   Durbin-Watson:                   0.493\n",
       "Prob(Omnibus):                  0.000   Jarque-Bera (JB):              152.507\n",
       "Skew:                           0.955   Prob(JB):                     7.65e-34\n",
       "Kurtosis:                       4.894   Cond. No.                         1.00\n",
       "==============================================================================\n",
       "\n",
       "Notes:\n",
       "[1] R² is computed without centering (uncentered) since the model does not contain a constant.\n",
       "[2] Standard Errors assume that the covariance matrix of the errors is correctly specified.\n",
       "\"\"\""
      ]
     },
     "execution_count": 53,
     "metadata": {},
     "output_type": "execute_result"
    }
   ],
   "source": [
    "X = df[\"RM\"]\n",
    "y = target[\"MEDV\"]\n",
    "\n",
    "model = sm.OLS(y, X).fit()\n",
    "predictions = model.predict(X)\n",
    "\n",
    "model.summary()"
   ]
  },
  {
   "cell_type": "code",
   "execution_count": 54,
   "id": "a28fe53f",
   "metadata": {},
   "outputs": [
    {
     "data": {
      "image/png": "[encoded data removed]",
      "text/plain": [
       "<Figure size 432x288 with 1 Axes>"
      ]
     },
     "metadata": {
      "needs_background": "light"
     },
     "output_type": "display_data"
    }
   ],
   "source": [
    "plt.scatter(X, y, alpha=0.5)\n",
    "plt.plot(X, predictions)\n",
    "plt.title('Scatter plot x and y')\n",
    "plt.xlabel('x')\n",
    "plt.ylabel('y')\n",
    "plt.show()"
   ]
  },
  {
   "cell_type": "markdown",
   "id": "e37ff106",
   "metadata": {},
   "source": [
    "### Using SKlearn"
   ]
  },
  {
   "cell_type": "code",
   "execution_count": 55,
   "id": "40538da7",
   "metadata": {},
   "outputs": [],
   "source": [
    "from sklearn import linear_model"
   ]
  },
  {
   "cell_type": "code",
   "execution_count": 56,
   "id": "9fabb6a2",
   "metadata": {},
   "outputs": [],
   "source": [
    "from sklearn import datasets ## imports datasets from scikit-learn\n",
    "data = datasets.load_boston() ## loads Boston dataset from datasets library"
   ]
  },
  {
   "cell_type": "code",
   "execution_count": 57,
   "id": "8d487e5e",
   "metadata": {},
   "outputs": [],
   "source": [
    "# define the data/predictors as the pre-set feature names  \n",
    "df = pd.DataFrame(data.data, columns=data.feature_names)\n",
    "\n",
    "# Put the target (housing value -- MEDV) in another DataFrame\n",
    "target = pd.DataFrame(data.target, columns=['MEDV'])"
   ]
  },
  {
   "cell_type": "code",
   "execution_count": 58,
   "id": "66f038ad",
   "metadata": {},
   "outputs": [],
   "source": [
    "X = df\n",
    "y = target['MEDV']"
   ]
  },
  {
   "cell_type": "code",
   "execution_count": 59,
   "id": "fdcbb7ea",
   "metadata": {},
   "outputs": [],
   "source": [
    "lm = linear_model.LinearRegression()\n",
    "model = lm.fit(X,y)"
   ]
  },
  {
   "cell_type": "code",
   "execution_count": 60,
   "id": "0ac6106a",
   "metadata": {},
   "outputs": [
    {
     "name": "stdout",
     "output_type": "stream",
     "text": [
      "             0\n",
      "0    30.003843\n",
      "1    25.025562\n",
      "2    30.567597\n",
      "3    28.607036\n",
      "4    27.943524\n",
      "..         ...\n",
      "501  23.533341\n",
      "502  22.375719\n",
      "503  27.627426\n",
      "504  26.127967\n",
      "505  22.344212\n",
      "\n",
      "[506 rows x 1 columns]\n"
     ]
    }
   ],
   "source": [
    "predictions = lm.predict(X)\n",
    "print(pd.DataFrame(predictions))"
   ]
  },
  {
   "cell_type": "code",
   "execution_count": 61,
   "id": "f974e161",
   "metadata": {},
   "outputs": [
    {
     "data": {
      "text/plain": [
       "0.7406426641094095"
      ]
     },
     "execution_count": 61,
     "metadata": {},
     "output_type": "execute_result"
    }
   ],
   "source": [
    "lm.score(X,y)"
   ]
  },
  {
   "cell_type": "markdown",
   "id": "ade17c23",
   "metadata": {},
   "source": [
    "### Using SKlearn Example 2"
   ]
  },
  {
   "cell_type": "code",
   "execution_count": 62,
   "id": "9e61e3eb",
   "metadata": {},
   "outputs": [
    {
     "data": {
      "text/html": [
       "<div>\n",
       "<style scoped>\n",
       "    .dataframe tbody tr th:only-of-type {\n",
       "        vertical-align: middle;\n",
       "    }\n",
       "\n",
       "    .dataframe tbody tr th {\n",
       "        vertical-align: top;\n",
       "    }\n",
       "\n",
       "    .dataframe thead th {\n",
       "        text-align: right;\n",
       "    }\n",
       "</style>\n",
       "<table border=\"1\" class=\"dataframe\">\n",
       "  <thead>\n",
       "    <tr style=\"text-align: right;\">\n",
       "      <th></th>\n",
       "      <th>horsepower</th>\n",
       "      <th>price</th>\n",
       "    </tr>\n",
       "  </thead>\n",
       "  <tbody>\n",
       "    <tr>\n",
       "      <th>0</th>\n",
       "      <td>111</td>\n",
       "      <td>13495.0</td>\n",
       "    </tr>\n",
       "    <tr>\n",
       "      <th>1</th>\n",
       "      <td>111</td>\n",
       "      <td>16500.0</td>\n",
       "    </tr>\n",
       "    <tr>\n",
       "      <th>2</th>\n",
       "      <td>154</td>\n",
       "      <td>16500.0</td>\n",
       "    </tr>\n",
       "    <tr>\n",
       "      <th>3</th>\n",
       "      <td>102</td>\n",
       "      <td>13950.0</td>\n",
       "    </tr>\n",
       "    <tr>\n",
       "      <th>4</th>\n",
       "      <td>115</td>\n",
       "      <td>17450.0</td>\n",
       "    </tr>\n",
       "  </tbody>\n",
       "</table>\n",
       "</div>"
      ],
      "text/plain": [
       "   horsepower    price\n",
       "0         111  13495.0\n",
       "1         111  16500.0\n",
       "2         154  16500.0\n",
       "3         102  13950.0\n",
       "4         115  17450.0"
      ]
     },
     "execution_count": 62,
     "metadata": {},
     "output_type": "execute_result"
    }
   ],
   "source": [
    "import pandas as pd\n",
    "import matplotlib.pyplot as plt\n",
    "from sklearn.linear_model import LinearRegression\n",
    "from sklearn.model_selection import train_test_split\n",
    "\n",
    "df = pd.read_csv('https://raw.githubusercontent.com/ardhiraka/PFDS_sources/master/CarPrice_Assignment.csv', usecols=['horsepower', 'price'])\n",
    "df.head()"
   ]
  },
  {
   "cell_type": "code",
   "execution_count": 63,
   "id": "cc44ed4c",
   "metadata": {},
   "outputs": [
    {
     "data": {
      "text/plain": [
       "(205, 2)"
      ]
     },
     "execution_count": 63,
     "metadata": {},
     "output_type": "execute_result"
    }
   ],
   "source": [
    "df.shape"
   ]
  },
  {
   "cell_type": "code",
   "execution_count": 64,
   "id": "0ad9cb59",
   "metadata": {},
   "outputs": [
    {
     "data": {
      "image/png": "[encoded data removed]",
      "text/plain": [
       "<Figure size 864x288 with 2 Axes>"
      ]
     },
     "metadata": {
      "needs_background": "light"
     },
     "output_type": "display_data"
    }
   ],
   "source": [
    "f = plt.figure(figsize=(12,4))\n",
    "\n",
    "f.add_subplot(1,2,1)\n",
    "df['horsepower'].plot(kind='kde')\n",
    "\n",
    "f.add_subplot(1,2,2)\n",
    "plt.boxplot(df['horsepower'])\n",
    "plt.show()"
   ]
  },
  {
   "cell_type": "code",
   "execution_count": 65,
   "id": "30060f05",
   "metadata": {},
   "outputs": [
    {
     "data": {
      "image/png": "[encoded data removed]",
      "text/plain": [
       "<Figure size 432x288 with 1 Axes>"
      ]
     },
     "metadata": {
      "needs_background": "light"
     },
     "output_type": "display_data"
    }
   ],
   "source": [
    "plt.scatter(df['horsepower'], df['price'])\n",
    "\n",
    "plt.xlabel('Horsepower')\n",
    "plt.ylabel('Price')\n",
    "plt.title('Scatter Plot Horsepower vs Price')\n",
    "plt.show()"
   ]
  },
  {
   "cell_type": "code",
   "execution_count": 66,
   "id": "5c139f12",
   "metadata": {},
   "outputs": [
    {
     "data": {
      "text/html": [
       "<div>\n",
       "<style scoped>\n",
       "    .dataframe tbody tr th:only-of-type {\n",
       "        vertical-align: middle;\n",
       "    }\n",
       "\n",
       "    .dataframe tbody tr th {\n",
       "        vertical-align: top;\n",
       "    }\n",
       "\n",
       "    .dataframe thead th {\n",
       "        text-align: right;\n",
       "    }\n",
       "</style>\n",
       "<table border=\"1\" class=\"dataframe\">\n",
       "  <thead>\n",
       "    <tr style=\"text-align: right;\">\n",
       "      <th></th>\n",
       "      <th>horsepower</th>\n",
       "      <th>price</th>\n",
       "    </tr>\n",
       "  </thead>\n",
       "  <tbody>\n",
       "    <tr>\n",
       "      <th>horsepower</th>\n",
       "      <td>1.000000</td>\n",
       "      <td>0.808139</td>\n",
       "    </tr>\n",
       "    <tr>\n",
       "      <th>price</th>\n",
       "      <td>0.808139</td>\n",
       "      <td>1.000000</td>\n",
       "    </tr>\n",
       "  </tbody>\n",
       "</table>\n",
       "</div>"
      ],
      "text/plain": [
       "            horsepower     price\n",
       "horsepower    1.000000  0.808139\n",
       "price         0.808139  1.000000"
      ]
     },
     "execution_count": 66,
     "metadata": {},
     "output_type": "execute_result"
    }
   ],
   "source": [
    "df.corr()"
   ]
  },
  {
   "cell_type": "code",
   "execution_count": 67,
   "id": "019326ab",
   "metadata": {},
   "outputs": [],
   "source": [
    "x = df['horsepower'].values.reshape(-1,1)\n",
    "y = df['price'].values.reshape(-1,1)"
   ]
  },
  {
   "cell_type": "code",
   "execution_count": 68,
   "id": "99646f9b",
   "metadata": {
    "scrolled": true
   },
   "outputs": [
    {
     "name": "stdout",
     "output_type": "stream",
     "text": [
      "[[111]\n",
      " [111]\n",
      " [154]\n",
      " [102]\n",
      " [115]\n",
      " [110]\n",
      " [110]\n",
      " [110]\n",
      " [140]\n",
      " [160]\n",
      " [101]\n",
      " [101]\n",
      " [121]\n",
      " [121]\n",
      " [121]\n",
      " [182]\n",
      " [182]\n",
      " [182]\n",
      " [ 48]\n",
      " [ 70]\n",
      " [ 70]\n",
      " [ 68]\n",
      " [ 68]\n",
      " [102]\n",
      " [ 68]\n",
      " [ 68]\n",
      " [ 68]\n",
      " [102]\n",
      " [ 88]\n",
      " [145]\n",
      " [ 58]\n",
      " [ 76]\n",
      " [ 60]\n",
      " [ 76]\n",
      " [ 76]\n",
      " [ 76]\n",
      " [ 76]\n",
      " [ 86]\n",
      " [ 86]\n",
      " [ 86]\n",
      " [ 86]\n",
      " [101]\n",
      " [100]\n",
      " [ 78]\n",
      " [ 70]\n",
      " [ 70]\n",
      " [ 90]\n",
      " [176]\n",
      " [176]\n",
      " [262]\n",
      " [ 68]\n",
      " [ 68]\n",
      " [ 68]\n",
      " [ 68]\n",
      " [ 68]\n",
      " [101]\n",
      " [101]\n",
      " [101]\n",
      " [135]\n",
      " [ 84]\n",
      " [ 84]\n",
      " [ 84]\n",
      " [ 84]\n",
      " [ 64]\n",
      " [ 84]\n",
      " [120]\n",
      " [ 72]\n",
      " [123]\n",
      " [123]\n",
      " [123]\n",
      " [123]\n",
      " [155]\n",
      " [155]\n",
      " [184]\n",
      " [184]\n",
      " [175]\n",
      " [ 68]\n",
      " [ 68]\n",
      " [ 68]\n",
      " [102]\n",
      " [116]\n",
      " [ 88]\n",
      " [145]\n",
      " [145]\n",
      " [145]\n",
      " [ 88]\n",
      " [ 88]\n",
      " [116]\n",
      " [116]\n",
      " [ 69]\n",
      " [ 55]\n",
      " [ 69]\n",
      " [ 69]\n",
      " [ 69]\n",
      " [ 69]\n",
      " [ 69]\n",
      " [ 69]\n",
      " [ 69]\n",
      " [ 69]\n",
      " [ 97]\n",
      " [ 97]\n",
      " [152]\n",
      " [152]\n",
      " [152]\n",
      " [160]\n",
      " [200]\n",
      " [160]\n",
      " [ 97]\n",
      " [ 95]\n",
      " [ 97]\n",
      " [ 95]\n",
      " [ 95]\n",
      " [ 95]\n",
      " [ 95]\n",
      " [ 95]\n",
      " [ 97]\n",
      " [ 95]\n",
      " [142]\n",
      " [ 68]\n",
      " [102]\n",
      " [ 68]\n",
      " [ 68]\n",
      " [ 68]\n",
      " [ 88]\n",
      " [145]\n",
      " [143]\n",
      " [207]\n",
      " [207]\n",
      " [207]\n",
      " [288]\n",
      " [ 90]\n",
      " [ 90]\n",
      " [110]\n",
      " [110]\n",
      " [110]\n",
      " [110]\n",
      " [160]\n",
      " [160]\n",
      " [ 69]\n",
      " [ 73]\n",
      " [ 73]\n",
      " [ 82]\n",
      " [ 82]\n",
      " [ 94]\n",
      " [ 82]\n",
      " [111]\n",
      " [ 82]\n",
      " [ 94]\n",
      " [ 82]\n",
      " [111]\n",
      " [ 62]\n",
      " [ 62]\n",
      " [ 62]\n",
      " [ 62]\n",
      " [ 62]\n",
      " [ 62]\n",
      " [ 70]\n",
      " [ 70]\n",
      " [ 56]\n",
      " [ 56]\n",
      " [ 70]\n",
      " [ 70]\n",
      " [ 70]\n",
      " [ 70]\n",
      " [ 70]\n",
      " [112]\n",
      " [112]\n",
      " [116]\n",
      " [116]\n",
      " [116]\n",
      " [116]\n",
      " [116]\n",
      " [116]\n",
      " [ 92]\n",
      " [ 73]\n",
      " [ 92]\n",
      " [ 92]\n",
      " [ 92]\n",
      " [161]\n",
      " [161]\n",
      " [156]\n",
      " [156]\n",
      " [ 52]\n",
      " [ 85]\n",
      " [ 52]\n",
      " [ 85]\n",
      " [ 85]\n",
      " [ 68]\n",
      " [100]\n",
      " [ 90]\n",
      " [ 90]\n",
      " [110]\n",
      " [ 68]\n",
      " [ 88]\n",
      " [114]\n",
      " [114]\n",
      " [114]\n",
      " [114]\n",
      " [162]\n",
      " [162]\n",
      " [114]\n",
      " [160]\n",
      " [134]\n",
      " [106]\n",
      " [114]]\n",
      "[[13495.   ]\n",
      " [16500.   ]\n",
      " [16500.   ]\n",
      " [13950.   ]\n",
      " [17450.   ]\n",
      " [15250.   ]\n",
      " [17710.   ]\n",
      " [18920.   ]\n",
      " [23875.   ]\n",
      " [17859.167]\n",
      " [16430.   ]\n",
      " [16925.   ]\n",
      " [20970.   ]\n",
      " [21105.   ]\n",
      " [24565.   ]\n",
      " [30760.   ]\n",
      " [41315.   ]\n",
      " [36880.   ]\n",
      " [ 5151.   ]\n",
      " [ 6295.   ]\n",
      " [ 6575.   ]\n",
      " [ 5572.   ]\n",
      " [ 6377.   ]\n",
      " [ 7957.   ]\n",
      " [ 6229.   ]\n",
      " [ 6692.   ]\n",
      " [ 7609.   ]\n",
      " [ 8558.   ]\n",
      " [ 8921.   ]\n",
      " [12964.   ]\n",
      " [ 6479.   ]\n",
      " [ 6855.   ]\n",
      " [ 5399.   ]\n",
      " [ 6529.   ]\n",
      " [ 7129.   ]\n",
      " [ 7295.   ]\n",
      " [ 7295.   ]\n",
      " [ 7895.   ]\n",
      " [ 9095.   ]\n",
      " [ 8845.   ]\n",
      " [10295.   ]\n",
      " [12945.   ]\n",
      " [10345.   ]\n",
      " [ 6785.   ]\n",
      " [ 8916.5  ]\n",
      " [ 8916.5  ]\n",
      " [11048.   ]\n",
      " [32250.   ]\n",
      " [35550.   ]\n",
      " [36000.   ]\n",
      " [ 5195.   ]\n",
      " [ 6095.   ]\n",
      " [ 6795.   ]\n",
      " [ 6695.   ]\n",
      " [ 7395.   ]\n",
      " [10945.   ]\n",
      " [11845.   ]\n",
      " [13645.   ]\n",
      " [15645.   ]\n",
      " [ 8845.   ]\n",
      " [ 8495.   ]\n",
      " [10595.   ]\n",
      " [10245.   ]\n",
      " [10795.   ]\n",
      " [11245.   ]\n",
      " [18280.   ]\n",
      " [18344.   ]\n",
      " [25552.   ]\n",
      " [28248.   ]\n",
      " [28176.   ]\n",
      " [31600.   ]\n",
      " [34184.   ]\n",
      " [35056.   ]\n",
      " [40960.   ]\n",
      " [45400.   ]\n",
      " [16503.   ]\n",
      " [ 5389.   ]\n",
      " [ 6189.   ]\n",
      " [ 6669.   ]\n",
      " [ 7689.   ]\n",
      " [ 9959.   ]\n",
      " [ 8499.   ]\n",
      " [12629.   ]\n",
      " [14869.   ]\n",
      " [14489.   ]\n",
      " [ 6989.   ]\n",
      " [ 8189.   ]\n",
      " [ 9279.   ]\n",
      " [ 9279.   ]\n",
      " [ 5499.   ]\n",
      " [ 7099.   ]\n",
      " [ 6649.   ]\n",
      " [ 6849.   ]\n",
      " [ 7349.   ]\n",
      " [ 7299.   ]\n",
      " [ 7799.   ]\n",
      " [ 7499.   ]\n",
      " [ 7999.   ]\n",
      " [ 8249.   ]\n",
      " [ 8949.   ]\n",
      " [ 9549.   ]\n",
      " [13499.   ]\n",
      " [14399.   ]\n",
      " [13499.   ]\n",
      " [17199.   ]\n",
      " [19699.   ]\n",
      " [18399.   ]\n",
      " [11900.   ]\n",
      " [13200.   ]\n",
      " [12440.   ]\n",
      " [13860.   ]\n",
      " [15580.   ]\n",
      " [16900.   ]\n",
      " [16695.   ]\n",
      " [17075.   ]\n",
      " [16630.   ]\n",
      " [17950.   ]\n",
      " [18150.   ]\n",
      " [ 5572.   ]\n",
      " [ 7957.   ]\n",
      " [ 6229.   ]\n",
      " [ 6692.   ]\n",
      " [ 7609.   ]\n",
      " [ 8921.   ]\n",
      " [12764.   ]\n",
      " [22018.   ]\n",
      " [32528.   ]\n",
      " [34028.   ]\n",
      " [37028.   ]\n",
      " [31400.5  ]\n",
      " [ 9295.   ]\n",
      " [ 9895.   ]\n",
      " [11850.   ]\n",
      " [12170.   ]\n",
      " [15040.   ]\n",
      " [15510.   ]\n",
      " [18150.   ]\n",
      " [18620.   ]\n",
      " [ 5118.   ]\n",
      " [ 7053.   ]\n",
      " [ 7603.   ]\n",
      " [ 7126.   ]\n",
      " [ 7775.   ]\n",
      " [ 9960.   ]\n",
      " [ 9233.   ]\n",
      " [11259.   ]\n",
      " [ 7463.   ]\n",
      " [10198.   ]\n",
      " [ 8013.   ]\n",
      " [11694.   ]\n",
      " [ 5348.   ]\n",
      " [ 6338.   ]\n",
      " [ 6488.   ]\n",
      " [ 6918.   ]\n",
      " [ 7898.   ]\n",
      " [ 8778.   ]\n",
      " [ 6938.   ]\n",
      " [ 7198.   ]\n",
      " [ 7898.   ]\n",
      " [ 7788.   ]\n",
      " [ 7738.   ]\n",
      " [ 8358.   ]\n",
      " [ 9258.   ]\n",
      " [ 8058.   ]\n",
      " [ 8238.   ]\n",
      " [ 9298.   ]\n",
      " [ 9538.   ]\n",
      " [ 8449.   ]\n",
      " [ 9639.   ]\n",
      " [ 9989.   ]\n",
      " [11199.   ]\n",
      " [11549.   ]\n",
      " [17669.   ]\n",
      " [ 8948.   ]\n",
      " [10698.   ]\n",
      " [ 9988.   ]\n",
      " [10898.   ]\n",
      " [11248.   ]\n",
      " [16558.   ]\n",
      " [15998.   ]\n",
      " [15690.   ]\n",
      " [15750.   ]\n",
      " [ 7775.   ]\n",
      " [ 7975.   ]\n",
      " [ 7995.   ]\n",
      " [ 8195.   ]\n",
      " [ 8495.   ]\n",
      " [ 9495.   ]\n",
      " [ 9995.   ]\n",
      " [11595.   ]\n",
      " [ 9980.   ]\n",
      " [13295.   ]\n",
      " [13845.   ]\n",
      " [12290.   ]\n",
      " [12940.   ]\n",
      " [13415.   ]\n",
      " [15985.   ]\n",
      " [16515.   ]\n",
      " [18420.   ]\n",
      " [18950.   ]\n",
      " [16845.   ]\n",
      " [19045.   ]\n",
      " [21485.   ]\n",
      " [22470.   ]\n",
      " [22625.   ]]\n"
     ]
    }
   ],
   "source": [
    "print(x)\n",
    "print(y)"
   ]
  },
  {
   "cell_type": "code",
   "execution_count": 69,
   "id": "ae81b2c6",
   "metadata": {},
   "outputs": [],
   "source": [
    "x_train, x_test, y_train, y_test = train_test_split(x, y, test_size=0.2)"
   ]
  },
  {
   "cell_type": "code",
   "execution_count": 70,
   "id": "b138e51c",
   "metadata": {},
   "outputs": [
    {
     "data": {
      "text/plain": [
       "(164, 1)"
      ]
     },
     "execution_count": 70,
     "metadata": {},
     "output_type": "execute_result"
    }
   ],
   "source": [
    "x_train.shape\n"
   ]
  },
  {
   "cell_type": "code",
   "execution_count": 71,
   "id": "7bc0a51c",
   "metadata": {},
   "outputs": [
    {
     "data": {
      "text/plain": [
       "LinearRegression()"
      ]
     },
     "execution_count": 71,
     "metadata": {},
     "output_type": "execute_result"
    }
   ],
   "source": [
    "lin_reg = LinearRegression()\n",
    "lin_reg.fit(x_train, y_train)"
   ]
  },
  {
   "cell_type": "code",
   "execution_count": 72,
   "id": "45cf3681",
   "metadata": {},
   "outputs": [
    {
     "name": "stdout",
     "output_type": "stream",
     "text": [
      "[[164.99095801]]\n",
      "[-3906.64063332]\n"
     ]
    }
   ],
   "source": [
    "print(lin_reg.coef_)\n",
    "print(lin_reg.intercept_)"
   ]
  },
  {
   "cell_type": "code",
   "execution_count": 73,
   "id": "83b89ce4",
   "metadata": {},
   "outputs": [
    {
     "data": {
      "text/plain": [
       "0.4629271924954502"
      ]
     },
     "execution_count": 73,
     "metadata": {},
     "output_type": "execute_result"
    }
   ],
   "source": [
    "lin_reg.score(x_test, y_test)\n"
   ]
  },
  {
   "cell_type": "code",
   "execution_count": 74,
   "id": "0e28c378",
   "metadata": {},
   "outputs": [
    {
     "data": {
      "text/plain": [
       "Text(0.5, 1.0, 'Plot Horsepower vs Price')"
      ]
     },
     "execution_count": 74,
     "metadata": {},
     "output_type": "execute_result"
    },
    {
     "data": {
      "image/png": "[encoded data removed]",
      "text/plain": [
       "<Figure size 432x288 with 1 Axes>"
      ]
     },
     "metadata": {
      "needs_background": "light"
     },
     "output_type": "display_data"
    }
   ],
   "source": [
    "y_prediction = lin_reg.predict(x_test)\n",
    "\n",
    "plt.scatter(x_test, y_test)\n",
    "plt.plot(x_test, y_prediction, c='r')\n",
    "plt.xlabel('Horsepower')\n",
    "plt.ylabel('Price')\n",
    "plt.title('Plot Horsepower vs Price')"
   ]
  },
  {
   "cell_type": "code",
   "execution_count": 75,
   "id": "7a645206",
   "metadata": {},
   "outputs": [
    {
     "data": {
      "text/plain": [
       "array([[12592.4551672]])"
      ]
     },
     "execution_count": 75,
     "metadata": {},
     "output_type": "execute_result"
    }
   ],
   "source": [
    "lin_reg.predict([[100]])\n"
   ]
  },
  {
   "cell_type": "code",
   "execution_count": 76,
   "id": "f66c7903",
   "metadata": {},
   "outputs": [
    {
     "data": {
      "text/plain": [
       "array([[20842.00306745]])"
      ]
     },
     "execution_count": 76,
     "metadata": {},
     "output_type": "execute_result"
    }
   ],
   "source": [
    "lin_reg.predict([[150]])\n"
   ]
  },
  {
   "cell_type": "code",
   "execution_count": 77,
   "id": "6546da10",
   "metadata": {},
   "outputs": [
    {
     "data": {
      "text/plain": [
       "array([[29091.55096771]])"
      ]
     },
     "execution_count": 77,
     "metadata": {},
     "output_type": "execute_result"
    }
   ],
   "source": [
    "lin_reg.predict([[200]])\n"
   ]
  },
  {
   "cell_type": "code",
   "execution_count": null,
   "id": "cb2f8a6f",
   "metadata": {},
   "outputs": [],
   "source": []
  }
 ],
 "metadata": {
  "kernelspec": {
   "display_name": "Python 3 (ipykernel)",
   "language": "python",
   "name": "python3"
  },
  "language_info": {
   "codemirror_mode": {
    "name": "ipython",
    "version": 3
   },
   "file_extension": ".py",
   "mimetype": "text/x-python",
   "name": "python",
   "nbconvert_exporter": "python",
   "pygments_lexer": "ipython3",
   "version": "3.9.7"
  },
  "toc": {
   "base_numbering": 1,
   "nav_menu": {},
   "number_sections": true,
   "sideBar": true,
   "skip_h1_title": false,
   "title_cell": "Table of Contents",
   "title_sidebar": "Contents",
   "toc_cell": false,
   "toc_position": {},
   "toc_section_display": true,
   "toc_window_display": true
  }
 },
 "nbformat": 4,
 "nbformat_minor": 5
}
